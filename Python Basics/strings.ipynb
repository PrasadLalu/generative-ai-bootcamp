{
 "cells": [
  {
   "cell_type": "markdown",
   "id": "d9b1dae0",
   "metadata": {},
   "source": [
    "### Strings"
   ]
  },
  {
   "cell_type": "code",
   "execution_count": 1,
   "id": "8a338619",
   "metadata": {},
   "outputs": [
    {
     "name": "stdout",
     "output_type": "stream",
     "text": [
      "Hello World\n"
     ]
    }
   ],
   "source": [
    "greeting = 'Hello World'\n",
    "print(greeting)"
   ]
  },
  {
   "cell_type": "code",
   "execution_count": 2,
   "id": "becd8aeb",
   "metadata": {},
   "outputs": [
    {
     "name": "stdout",
     "output_type": "stream",
     "text": [
      "11\n"
     ]
    }
   ],
   "source": [
    "print(len(greeting))"
   ]
  },
  {
   "cell_type": "markdown",
   "id": "98c8cc35",
   "metadata": {},
   "source": [
    "- `Multiline strings`"
   ]
  },
  {
   "cell_type": "code",
   "execution_count": 3,
   "id": "2d0dc8e9",
   "metadata": {},
   "outputs": [
    {
     "name": "stdout",
     "output_type": "stream",
     "text": [
      "\n",
      "Text is a string data type. \n",
      "Any data type written as text is a string. \n",
      "Any data under single, double or triple quote are string\n",
      "\n"
     ]
    }
   ],
   "source": [
    "multiline_string = '''\n",
    "Text is a string data type. \n",
    "Any data type written as text is a string. \n",
    "Any data under single, double or triple quote are string\n",
    "'''\n",
    "print(multiline_string)"
   ]
  },
  {
   "cell_type": "code",
   "execution_count": 4,
   "id": "026b5515",
   "metadata": {},
   "outputs": [
    {
     "name": "stdout",
     "output_type": "stream",
     "text": [
      "\n",
      "Text is a string data type. \n",
      "Any data type written as text is a string. \n",
      "Any data under single, double or triple quote are string\n",
      "\n"
     ]
    }
   ],
   "source": [
    "multiline_string = \"\"\"\n",
    "Text is a string data type. \n",
    "Any data type written as text is a string. \n",
    "Any data under single, double or triple quote are string\n",
    "\"\"\"\n",
    "print(multiline_string)"
   ]
  },
  {
   "cell_type": "markdown",
   "id": "b4e0f509",
   "metadata": {},
   "source": [
    "- `String Concatenation`"
   ]
  },
  {
   "cell_type": "code",
   "execution_count": 6,
   "id": "0ad593a2",
   "metadata": {},
   "outputs": [
    {
     "name": "stdout",
     "output_type": "stream",
     "text": [
      "Full Name: John Doe\n"
     ]
    }
   ],
   "source": [
    "first_name = 'John'\n",
    "last_name = 'Doe'\n",
    "full_name = first_name + ' ' + last_name\n",
    "print(f'Full Name: {full_name}')"
   ]
  },
  {
   "cell_type": "code",
   "execution_count": 7,
   "id": "411450eb",
   "metadata": {},
   "outputs": [
    {
     "name": "stdout",
     "output_type": "stream",
     "text": [
      "4\n",
      "3\n"
     ]
    }
   ],
   "source": [
    "print(len(first_name))\n",
    "print(len(last_name))"
   ]
  },
  {
   "cell_type": "code",
   "execution_count": 9,
   "id": "311fa692",
   "metadata": {},
   "outputs": [
    {
     "name": "stdout",
     "output_type": "stream",
     "text": [
      "I am John Doe. I love Python.\n"
     ]
    }
   ],
   "source": [
    "# String Formatting\n",
    "first_name = 'John'\n",
    "last_name = 'Doe'\n",
    "language = 'Python'\n",
    "formatted_string = 'I am {} {}. I love {}.'.format(first_name, last_name, language)\n",
    "print(formatted_string)"
   ]
  },
  {
   "cell_type": "code",
   "execution_count": 10,
   "id": "27f5efa1",
   "metadata": {},
   "outputs": [
    {
     "name": "stdout",
     "output_type": "stream",
     "text": [
      "The area of the circle with a radius is 10 is 314.00.\n"
     ]
    }
   ],
   "source": [
    "radius = 10\n",
    "pi = 3.14\n",
    "area = pi * radius ** 2\n",
    "formatted_string = 'The area of the circle with a radius is {} is {:.2f}.'.format(radius, area)\n",
    "print(formatted_string)"
   ]
  },
  {
   "cell_type": "code",
   "execution_count": 13,
   "id": "b75f1446",
   "metadata": {},
   "outputs": [
    {
     "name": "stdout",
     "output_type": "stream",
     "text": [
      "Pyt\n",
      "hon\n"
     ]
    }
   ],
   "source": [
    "# Slicing Python Strings\n",
    "language = 'Python'\n",
    "print(language[:3])\n",
    "\n",
    "print(language[3:6])"
   ]
  },
  {
   "cell_type": "code",
   "execution_count": 17,
   "id": "370d5b74",
   "metadata": {},
   "outputs": [
    {
     "name": "stdout",
     "output_type": "stream",
     "text": [
      "dlroW olleH\n"
     ]
    }
   ],
   "source": [
    "# Reversing a String\n",
    "greeting = 'Hello World'\n",
    "print(greeting[::-1])"
   ]
  },
  {
   "cell_type": "code",
   "execution_count": 21,
   "id": "2f39b6ec",
   "metadata": {},
   "outputs": [
    {
     "name": "stdout",
     "output_type": "stream",
     "text": [
      "Pto\n",
      "HloWrd\n"
     ]
    }
   ],
   "source": [
    "# Skipping Characters While Slicing\n",
    "language = 'Python'\n",
    "print(language[0:6:2])\n",
    "\n",
    "greeting = 'Hello World'\n",
    "print(greeting[0:len(greeting):2])"
   ]
  },
  {
   "cell_type": "markdown",
   "id": "86784dc6",
   "metadata": {},
   "source": [
    "#### String Methods"
   ]
  },
  {
   "cell_type": "markdown",
   "id": "733c1564",
   "metadata": {},
   "source": [
    "- `capitalize()`: Converts the first character of the string to capital letter"
   ]
  },
  {
   "cell_type": "code",
   "execution_count": 97,
   "id": "142d4f27",
   "metadata": {},
   "outputs": [
    {
     "name": "stdout",
     "output_type": "stream",
     "text": [
      "Thirty days of python\n"
     ]
    }
   ],
   "source": [
    "challenge = 'thirty days of python'\n",
    "print(challenge.capitalize())"
   ]
  },
  {
   "cell_type": "markdown",
   "id": "cb096a74",
   "metadata": {},
   "source": [
    "- `count()`: returns occurrences of substring in string, count(substring, start=.., end=..). The start is a starting indexing for counting and end is the last index to count."
   ]
  },
  {
   "cell_type": "code",
   "execution_count": null,
   "id": "c56258a2",
   "metadata": {},
   "outputs": [],
   "source": [
    "# count()\n",
    "print(challenge.count('y')) # count char 'y'\n",
    "print(challenge.count('y', 7, 15)) # count char 'y' between 7-15\n",
    "print(challenge.count('th')) # count char 'th'"
   ]
  },
  {
   "cell_type": "markdown",
   "id": "0bf85155",
   "metadata": {},
   "source": [
    "- `endswith()`: Checks if a string ends with a specified ending"
   ]
  },
  {
   "cell_type": "code",
   "execution_count": 98,
   "id": "3b712d70",
   "metadata": {},
   "outputs": [
    {
     "name": "stdout",
     "output_type": "stream",
     "text": [
      "True\n",
      "False\n"
     ]
    }
   ],
   "source": [
    "challenge = 'thirty days of python'\n",
    "print(challenge.endswith('on'))\n",
    "print(challenge.endswith('end'))\n"
   ]
  },
  {
   "cell_type": "markdown",
   "id": "6874c359",
   "metadata": {},
   "source": [
    "- `expandtabs()`: Replaces tab character with spaces, default tab size is 8. It takes tab size argument"
   ]
  },
  {
   "cell_type": "code",
   "execution_count": 99,
   "id": "ffc44fa0",
   "metadata": {},
   "outputs": [
    {
     "name": "stdout",
     "output_type": "stream",
     "text": [
      "thirty  days    of      python\n",
      "thirty              days                of                  python\n"
     ]
    }
   ],
   "source": [
    "challenge = 'thirty\\tdays\\tof\\tpython'\n",
    "print(challenge.expandtabs())\n",
    "print(challenge.expandtabs(20))"
   ]
  },
  {
   "cell_type": "markdown",
   "id": "9f785fe7",
   "metadata": {},
   "source": [
    "- `find()`: Returns the index of the first occurrence of a substring, if not found returns -1"
   ]
  },
  {
   "cell_type": "code",
   "execution_count": 100,
   "id": "e47ca73f",
   "metadata": {},
   "outputs": [
    {
     "name": "stdout",
     "output_type": "stream",
     "text": [
      "5\n",
      "0\n",
      "0\n",
      "9\n"
     ]
    }
   ],
   "source": [
    "challenge = 'thirty days of python'\n",
    "\n",
    "print(challenge.find('y'))\n",
    "print(challenge.find('t'))\n",
    "print(challenge.find('th'))\n",
    "print(challenge.find('ys'))"
   ]
  },
  {
   "cell_type": "markdown",
   "id": "5ce4ed3e",
   "metadata": {},
   "source": [
    "- `rfind()`: Returns the index of the last occurrence of a substring, if not found returns -1"
   ]
  },
  {
   "cell_type": "code",
   "execution_count": 101,
   "id": "f01da7f3",
   "metadata": {},
   "outputs": [
    {
     "name": "stdout",
     "output_type": "stream",
     "text": [
      "4\n",
      "17\n",
      "16\n"
     ]
    }
   ],
   "source": [
    "challenge = 'thirty days of python'\n",
    "\n",
    "print(challenge.rfind('ty'))\n",
    "print(challenge.rfind('th'))\n",
    "print(challenge.rfind('y'))"
   ]
  },
  {
   "cell_type": "markdown",
   "id": "b0d90f37",
   "metadata": {},
   "source": [
    "- `index()`: Returns the lowest index of a substring, additional arguments indicate starting and ending index (default 0 and string length - 1). If the substring is not found it raises a valueError."
   ]
  },
  {
   "cell_type": "code",
   "execution_count": 102,
   "id": "ab280faa",
   "metadata": {},
   "outputs": [
    {
     "name": "stdout",
     "output_type": "stream",
     "text": [
      "4\n",
      "12\n"
     ]
    }
   ],
   "source": [
    "challenge = 'thirty days of python'\n",
    "\n",
    "print(challenge.index('ty'))\n",
    "print(challenge.index('o'))\n"
   ]
  },
  {
   "cell_type": "markdown",
   "id": "ee4ee942",
   "metadata": {},
   "source": [
    "- `isalnum()`: Checks alphanumeric character"
   ]
  },
  {
   "cell_type": "code",
   "execution_count": 103,
   "id": "241c277c",
   "metadata": {},
   "outputs": [
    {
     "name": "stdout",
     "output_type": "stream",
     "text": [
      "True\n",
      "True\n",
      "False\n",
      "False\n"
     ]
    }
   ],
   "source": [
    "challenge = 'ThirtyDaysPython'\n",
    "print(challenge.isalnum())\n",
    "\n",
    "challenge = '30ThirtyDaysPython'\n",
    "print(challenge.isalnum())\n",
    "\n",
    "challenge = 'thirty days python'\n",
    "print(challenge.isalnum())\n",
    "\n",
    "challenge = 'thirty days of python 2019'\n",
    "print(challenge.isalnum())"
   ]
  },
  {
   "cell_type": "markdown",
   "id": "99acb905",
   "metadata": {},
   "source": [
    "- `isalpha()`: Checks if all string elements are alphabet characters (a-z and A-Z)"
   ]
  },
  {
   "cell_type": "code",
   "execution_count": 104,
   "id": "3f3a4aac",
   "metadata": {},
   "outputs": [
    {
     "name": "stdout",
     "output_type": "stream",
     "text": [
      "False\n",
      "True\n",
      "False\n"
     ]
    }
   ],
   "source": [
    "challenge = 'thirty days of python'\n",
    "\n",
    "print(challenge.isalpha())\n",
    "\n",
    "challenge = 'ThirtyDaysPython'\n",
    "print(challenge.isalpha())\n",
    "\n",
    "num = '123'\n",
    "print(num.isalpha())"
   ]
  },
  {
   "cell_type": "markdown",
   "id": "5188ba69",
   "metadata": {},
   "source": [
    "- `isdecimal()`: Checks if all characters in a string are decimal (0-9)"
   ]
  },
  {
   "cell_type": "code",
   "execution_count": 105,
   "id": "6204b000",
   "metadata": {},
   "outputs": [
    {
     "name": "stdout",
     "output_type": "stream",
     "text": [
      "False\n",
      "True\n",
      "False\n"
     ]
    }
   ],
   "source": [
    "challenge = 'thirty days of python'\n",
    "print(challenge.isdecimal())\n",
    "\n",
    "num = '123'\n",
    "print(num.isdecimal())\n",
    "\n",
    "num = '12 3'\n",
    "print(num.isdecimal())\n"
   ]
  },
  {
   "cell_type": "markdown",
   "id": "469de8df",
   "metadata": {},
   "source": [
    "- `isdigit()`: Checks if all characters in a string are numbers (0-9 and some other unicode characters for numbers)"
   ]
  },
  {
   "cell_type": "code",
   "execution_count": 106,
   "id": "cdd4a648",
   "metadata": {},
   "outputs": [
    {
     "name": "stdout",
     "output_type": "stream",
     "text": [
      "False\n",
      "True\n",
      "True\n"
     ]
    }
   ],
   "source": [
    "challenge = 'Thirty'\n",
    "print(challenge.isdigit())\n",
    "\n",
    "challenge = '30'\n",
    "print(challenge.isdigit())\n",
    "\n",
    "challenge = '\\u00B2'\n",
    "print(challenge.isdigit())"
   ]
  },
  {
   "cell_type": "markdown",
   "id": "55c9db23",
   "metadata": {},
   "source": [
    "- `isnumeric()`: Checks if all characters in a string are numbers or number related (just like isdigit(), just accepts more symbols, like ½)"
   ]
  },
  {
   "cell_type": "code",
   "execution_count": 107,
   "id": "dfe5636c",
   "metadata": {},
   "outputs": [
    {
     "name": "stdout",
     "output_type": "stream",
     "text": [
      "True\n",
      "True\n",
      "False\n"
     ]
    }
   ],
   "source": [
    "num = '123'\n",
    "print(num.isnumeric())\n",
    "\n",
    "num = '\\u00B2'\n",
    "print(num.isnumeric())\n",
    "\n",
    "num = '10.5'\n",
    "print(num.isnumeric())"
   ]
  },
  {
   "cell_type": "markdown",
   "id": "7c8af8fa",
   "metadata": {},
   "source": [
    "- `isidentifier()`: Checks for a valid identifier - it checks if a string is a valid variable name"
   ]
  },
  {
   "cell_type": "code",
   "execution_count": 108,
   "id": "2372dd2f",
   "metadata": {},
   "outputs": [
    {
     "name": "stdout",
     "output_type": "stream",
     "text": [
      "False\n",
      "False\n",
      "True\n"
     ]
    }
   ],
   "source": [
    "challenge = '30DaysOfPython'\n",
    "print(challenge.isidentifier())\n",
    "\n",
    "challenge = 'thirty days of python'\n",
    "print(challenge.isidentifier())\n",
    "\n",
    "challenge = 'thirty_days_of_python'\n",
    "print(challenge.isidentifier())"
   ]
  },
  {
   "cell_type": "markdown",
   "id": "f6d71e17",
   "metadata": {},
   "source": [
    "- `islower()`: Checks if all alphabet characters in the string are lowercase"
   ]
  },
  {
   "cell_type": "code",
   "execution_count": null,
   "id": "b3b6ba68",
   "metadata": {},
   "outputs": [
    {
     "name": "stdout",
     "output_type": "stream",
     "text": [
      "True\n",
      "False\n"
     ]
    }
   ],
   "source": [
    "challenge = 'thirty days of python'\n",
    "print(challenge.islower())\n",
    "\n",
    "challenge = 'Thirty days of python'\n",
    "print(challenge.islower())"
   ]
  },
  {
   "cell_type": "markdown",
   "id": "b1dac465",
   "metadata": {},
   "source": [
    "- `isupper()`: Checks if all alphabet characters in the string are uppercase"
   ]
  },
  {
   "cell_type": "code",
   "execution_count": null,
   "id": "934d8c18",
   "metadata": {},
   "outputs": [
    {
     "name": "stdout",
     "output_type": "stream",
     "text": [
      "False\n",
      "True\n",
      "False\n"
     ]
    }
   ],
   "source": [
    "challenge = 'thirty days of python'\n",
    "print(challenge.isupper())\n",
    "\n",
    "challenge = 'THIRTY DAYS OF PYTHON'\n",
    "print(challenge.isupper())\n",
    "\n",
    "challenge = 'Thirty days of python'\n",
    "print(challenge.isupper())"
   ]
  },
  {
   "cell_type": "markdown",
   "id": "ac1e82a8",
   "metadata": {},
   "source": [
    "- `join()`: Returns a concatenated string"
   ]
  },
  {
   "cell_type": "code",
   "execution_count": 109,
   "id": "2b4b2167",
   "metadata": {},
   "outputs": [
    {
     "name": "stdout",
     "output_type": "stream",
     "text": [
      "HTML CSS JavaScript React\n",
      "HTML# CSS# JavaScript# React\n"
     ]
    }
   ],
   "source": [
    "web_tech = ['HTML', 'CSS', 'JavaScript', 'React']\n",
    "result = ' '.join(web_tech)\n",
    "print(result)\n",
    "\n",
    "result = '# '.join(web_tech)\n",
    "print(result)"
   ]
  },
  {
   "cell_type": "markdown",
   "id": "49c71c8a",
   "metadata": {},
   "source": [
    "- `strip()`: Removes all given characters starting from the beginning and end of the string"
   ]
  },
  {
   "cell_type": "code",
   "execution_count": 110,
   "id": "352421e4",
   "metadata": {},
   "outputs": [
    {
     "name": "stdout",
     "output_type": "stream",
     "text": [
      "irty days of py\n"
     ]
    }
   ],
   "source": [
    "challenge = 'thirty days of pythoonnn'\n",
    "print(challenge.strip('noth'))"
   ]
  },
  {
   "cell_type": "markdown",
   "id": "16fbb0b8",
   "metadata": {},
   "source": [
    "- `replace()`: Replaces substring with a given string"
   ]
  },
  {
   "cell_type": "code",
   "execution_count": 111,
   "id": "584a0870",
   "metadata": {},
   "outputs": [
    {
     "name": "stdout",
     "output_type": "stream",
     "text": [
      "thirty days of coding\n"
     ]
    }
   ],
   "source": [
    "challenge = 'thirty days of python'\n",
    "print(challenge.replace('python', 'coding'))"
   ]
  },
  {
   "cell_type": "markdown",
   "id": "6b1b0547",
   "metadata": {},
   "source": [
    "- `split()`: Splits the string, using given string or space as a separator"
   ]
  },
  {
   "cell_type": "code",
   "execution_count": 112,
   "id": "f55ee9b4",
   "metadata": {},
   "outputs": [
    {
     "name": "stdout",
     "output_type": "stream",
     "text": [
      "['thirty', 'days', 'of', 'python']\n"
     ]
    }
   ],
   "source": [
    "challenge = 'thirty days of python'\n",
    "print(challenge.split())"
   ]
  },
  {
   "cell_type": "code",
   "execution_count": 113,
   "id": "fd1087f1",
   "metadata": {},
   "outputs": [
    {
     "name": "stdout",
     "output_type": "stream",
     "text": [
      "['thirty', 'days', 'of', 'python']\n"
     ]
    }
   ],
   "source": [
    "challenge = 'thirty, days, of, python'\n",
    "print(challenge.split(', '))"
   ]
  },
  {
   "cell_type": "markdown",
   "id": "8cb5d064",
   "metadata": {},
   "source": [
    "- `title()`: Returns a title cased string"
   ]
  },
  {
   "cell_type": "code",
   "execution_count": 114,
   "id": "f13bf498",
   "metadata": {},
   "outputs": [
    {
     "name": "stdout",
     "output_type": "stream",
     "text": [
      "Thirty Days Of Python\n"
     ]
    }
   ],
   "source": [
    "challenge = 'thirty days of python'\n",
    "print(challenge.title())"
   ]
  },
  {
   "cell_type": "markdown",
   "id": "31d35c48",
   "metadata": {},
   "source": [
    "- `swapcase()`: Converts all uppercase characters to lowercase and all lowercase characters to uppercase characters"
   ]
  },
  {
   "cell_type": "code",
   "execution_count": 92,
   "id": "377db90e",
   "metadata": {},
   "outputs": [
    {
     "name": "stdout",
     "output_type": "stream",
     "text": [
      "THIRTY DAYS OF PYTHON\n"
     ]
    }
   ],
   "source": [
    "challenge = 'thirty days of python'\n",
    "print(challenge.swapcase())"
   ]
  },
  {
   "cell_type": "code",
   "execution_count": 93,
   "id": "d347aab6",
   "metadata": {},
   "outputs": [
    {
     "name": "stdout",
     "output_type": "stream",
     "text": [
      "tHIRTY dAYS oF pYTHON\n"
     ]
    }
   ],
   "source": [
    "challenge = 'Thirty Days Of Python'\n",
    "print(challenge.swapcase())"
   ]
  },
  {
   "cell_type": "markdown",
   "id": "86780651",
   "metadata": {},
   "source": [
    "- `startswith()`: Checks if String Starts with the Specified String"
   ]
  },
  {
   "cell_type": "code",
   "execution_count": 94,
   "id": "f1e3efd6",
   "metadata": {},
   "outputs": [
    {
     "name": "stdout",
     "output_type": "stream",
     "text": [
      "True\n"
     ]
    }
   ],
   "source": [
    "challenge = 'thirty days of python'\n",
    "print(challenge.startswith('thirty'))"
   ]
  },
  {
   "cell_type": "code",
   "execution_count": 95,
   "id": "2955b835",
   "metadata": {},
   "outputs": [
    {
     "name": "stdout",
     "output_type": "stream",
     "text": [
      "False\n"
     ]
    }
   ],
   "source": [
    "challenge = 'thirty days of python'\n",
    "print(challenge.startswith('days'))"
   ]
  },
  {
   "cell_type": "code",
   "execution_count": 96,
   "id": "ea03e843",
   "metadata": {},
   "outputs": [
    {
     "name": "stdout",
     "output_type": "stream",
     "text": [
      "True\n"
     ]
    }
   ],
   "source": [
    "challenge = 'thirty days of python'\n",
    "print(challenge.startswith('th'))"
   ]
  },
  {
   "cell_type": "markdown",
   "id": "e8a5255b",
   "metadata": {},
   "source": [
    "#### Exercises:"
   ]
  },
  {
   "cell_type": "code",
   "execution_count": 119,
   "id": "810d1a6f",
   "metadata": {},
   "outputs": [
    {
     "name": "stdout",
     "output_type": "stream",
     "text": [
      "l\n"
     ]
    }
   ],
   "source": [
    "challenge = 'Coding For All'\n",
    "\n",
    "print(challenge[-1])"
   ]
  },
  {
   "cell_type": "code",
   "execution_count": 118,
   "id": "171ada80",
   "metadata": {},
   "outputs": [
    {
     "name": "stdout",
     "output_type": "stream",
     "text": [
      "l\n"
     ]
    }
   ],
   "source": [
    "challenge = 'Coding For All'\n",
    "last_index = len(challenge)-1\n",
    "\n",
    "print(challenge[last_index])"
   ]
  },
  {
   "cell_type": "code",
   "execution_count": 121,
   "id": "eb5f18e9",
   "metadata": {},
   "outputs": [
    {
     "name": "stdout",
     "output_type": "stream",
     "text": [
      "Thirty Days Of Python\n"
     ]
    }
   ],
   "source": [
    "thirty = 'Thirty'\n",
    "days = 'Days'\n",
    "of = 'Of'\n",
    "python = 'Python'\n",
    "\n",
    "results = thirty + ' ' + days + ' ' + of + ' ' + python\n",
    "print(results)"
   ]
  },
  {
   "cell_type": "code",
   "execution_count": 122,
   "id": "9fee8fef",
   "metadata": {},
   "outputs": [
    {
     "name": "stdout",
     "output_type": "stream",
     "text": [
      "Coding For All\n"
     ]
    }
   ],
   "source": [
    "coding = 'Coding'\n",
    "fors = 'For'\n",
    "alls = 'All'\n",
    "results = coding + ' ' + fors + ' ' + alls\n",
    "print(results) "
   ]
  },
  {
   "cell_type": "code",
   "execution_count": 124,
   "id": "b4e8527a",
   "metadata": {},
   "outputs": [
    {
     "name": "stdout",
     "output_type": "stream",
     "text": [
      "Coding For All\n",
      "14\n"
     ]
    }
   ],
   "source": [
    "company = 'Coding For All'\n",
    "print(company)\n",
    "print(len(company))"
   ]
  },
  {
   "cell_type": "code",
   "execution_count": 131,
   "id": "5cb59ff4",
   "metadata": {},
   "outputs": [
    {
     "name": "stdout",
     "output_type": "stream",
     "text": [
      "Upper Case:  CODING FOR ALL\n",
      "Lower Case:  coding for all\n",
      "Capitalize:  Coding for all\n",
      "Title Case:  Coding For All\n",
      "Swapcase:  cODING fOR aLL\n"
     ]
    }
   ],
   "source": [
    "print('Upper Case: ', company.upper())\n",
    "print('Lower Case: ', company.lower())\n",
    "print('Capitalize: ', company.capitalize())\n",
    "print('Title Case: ', company.title())\n",
    "print('Swapcase: ', company.swapcase())"
   ]
  },
  {
   "cell_type": "code",
   "execution_count": 138,
   "id": "d32ec600",
   "metadata": {},
   "outputs": [
    {
     "name": "stdout",
     "output_type": "stream",
     "text": [
      "C\n",
      "0\n",
      "0\n"
     ]
    }
   ],
   "source": [
    "print(company[0: 1])\n",
    "\n",
    "print(company.index('Coding'))\n",
    "print(company.find('Coding'))"
   ]
  },
  {
   "cell_type": "code",
   "execution_count": 139,
   "id": "1ebfb148",
   "metadata": {},
   "outputs": [
    {
     "name": "stdout",
     "output_type": "stream",
     "text": [
      "Python For All\n"
     ]
    }
   ],
   "source": [
    "print(company.replace('Coding', 'Python'))"
   ]
  },
  {
   "cell_type": "code",
   "execution_count": 140,
   "id": "dd90cffc",
   "metadata": {},
   "outputs": [
    {
     "name": "stdout",
     "output_type": "stream",
     "text": [
      "Python for All\n"
     ]
    }
   ],
   "source": [
    "string = 'Python for Everyone'\n",
    "print(string.replace('Everyone', 'All'))"
   ]
  },
  {
   "cell_type": "code",
   "execution_count": 142,
   "id": "a81e9e46",
   "metadata": {},
   "outputs": [
    {
     "name": "stdout",
     "output_type": "stream",
     "text": [
      "['Coding', 'For', 'All']\n"
     ]
    }
   ],
   "source": [
    "company = 'Coding For All'\n",
    "print(company.split(' '))"
   ]
  },
  {
   "cell_type": "code",
   "execution_count": 143,
   "id": "51c3270c",
   "metadata": {},
   "outputs": [
    {
     "name": "stdout",
     "output_type": "stream",
     "text": [
      "['Facebook', 'Google', 'Microsoft', 'Apple', 'IBM', 'Oracle', 'Amazon']\n"
     ]
    }
   ],
   "source": [
    "companies = 'Facebook, Google, Microsoft, Apple, IBM, Oracle, Amazon'\n",
    "\n",
    "print(companies.split(', '))"
   ]
  },
  {
   "cell_type": "code",
   "execution_count": 144,
   "id": "82917f86",
   "metadata": {},
   "outputs": [
    {
     "name": "stdout",
     "output_type": "stream",
     "text": [
      "True\n"
     ]
    }
   ],
   "source": [
    "company = 'Coding For All'\n",
    "print(company.startswith('Coding'))"
   ]
  },
  {
   "cell_type": "code",
   "execution_count": 145,
   "id": "f052b171",
   "metadata": {},
   "outputs": [
    {
     "name": "stdout",
     "output_type": "stream",
     "text": [
      "False\n"
     ]
    }
   ],
   "source": [
    "print(company.endswith('Coding'))"
   ]
  },
  {
   "cell_type": "code",
   "execution_count": 151,
   "id": "36e274e2",
   "metadata": {},
   "outputs": [
    {
     "name": "stdout",
     "output_type": "stream",
     "text": [
      "Coding For All\n"
     ]
    }
   ],
   "source": [
    "company = '   Coding For All      '\n",
    "print(company.strip())"
   ]
  },
  {
   "cell_type": "code",
   "execution_count": 153,
   "id": "bb51663d",
   "metadata": {},
   "outputs": [
    {
     "name": "stdout",
     "output_type": "stream",
     "text": [
      "Django Flask Bottle Pyramid Falcon\n"
     ]
    }
   ],
   "source": [
    "libraries = ['Django', 'Flask', 'Bottle', 'Pyramid', 'Falcon']\n",
    "print(' '.join(libraries))"
   ]
  },
  {
   "cell_type": "code",
   "execution_count": null,
   "id": "e0c376b7",
   "metadata": {},
   "outputs": [],
   "source": []
  }
 ],
 "metadata": {
  "kernelspec": {
   "display_name": ".venv (3.10.18)",
   "language": "python",
   "name": "python3"
  },
  "language_info": {
   "codemirror_mode": {
    "name": "ipython",
    "version": 3
   },
   "file_extension": ".py",
   "mimetype": "text/x-python",
   "name": "python",
   "nbconvert_exporter": "python",
   "pygments_lexer": "ipython3",
   "version": "3.10.18"
  }
 },
 "nbformat": 4,
 "nbformat_minor": 5
}
