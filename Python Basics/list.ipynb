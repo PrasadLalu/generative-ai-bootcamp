{
 "cells": [
  {
   "cell_type": "markdown",
   "id": "fd00acab",
   "metadata": {},
   "source": [
    "## List"
   ]
  },
  {
   "cell_type": "markdown",
   "id": "b430a09d",
   "metadata": {},
   "source": [
    "#### Create a List"
   ]
  },
  {
   "cell_type": "code",
   "execution_count": 2,
   "id": "cab0a74e",
   "metadata": {},
   "outputs": [
    {
     "data": {
      "text/plain": [
       "[]"
      ]
     },
     "execution_count": 2,
     "metadata": {},
     "output_type": "execute_result"
    }
   ],
   "source": [
    "# Empty list\n",
    "empty_lst = list()\n",
    "empty_lst"
   ]
  },
  {
   "cell_type": "code",
   "execution_count": 3,
   "metadata": {},
   "outputs": [
    {
     "data": {
      "text/plain": [
       "[]"
      ]
     },
     "execution_count": 3,
     "metadata": {},
     "output_type": "execute_result"
    }
   ],
   "source": [
    "empty_lst = []\n",
    "empty_lst"
   ]
  },
  {
   "cell_type": "code",
   "execution_count": 11,
   "id": "fd4ce405",
   "metadata": {},
   "outputs": [
    {
     "name": "stdout",
     "output_type": "stream",
     "text": [
      "Fruits:  ['banana', 'orange', 'mango', 'lemon']\n",
      "Number of fruits: 4\n",
      "Vegetables:  ['Tomato', 'Potato', 'Cabbage', 'Onion', 'Carrot']\n",
      "Number of vegetables: 5\n",
      "Animal Products:  ['milk', 'meat', 'butter', 'yoghurt']\n",
      "Web Technologies:  ['HTML', 'CSS', 'JS', 'React', 'Redux', 'Node', 'MongDB']\n",
      "List of Countries:  ['Finland', 'Estonia', 'Denmark', 'Sweden', 'Norway']\n",
      "Number of countries: 5\n"
     ]
    }
   ],
   "source": [
    "fruits = ['banana', 'orange', 'mango', 'lemon']\n",
    "vegetables = ['Tomato', 'Potato', 'Cabbage','Onion', 'Carrot']\n",
    "animal_products = ['milk', 'meat', 'butter', 'yoghurt']\n",
    "web_techs = ['HTML', 'CSS', 'JS', 'React','Redux', 'Node', 'MongDB']\n",
    "countries = ['Finland', 'Estonia', 'Denmark', 'Sweden', 'Norway']\n",
    "\n",
    "print('Fruits: ', fruits)\n",
    "print(f'Number of fruits: {len(fruits)}')\n",
    "print('Vegetables: ', vegetables)\n",
    "print(f'Number of vegetables: {len(vegetables)}')\n",
    "print('Animal Products: ', animal_products)\n",
    "print('Web Technologies: ', web_techs)\n",
    "print('List of Countries: ', countries)\n",
    "print('Number of countries: %d' % len(countries))"
   ]
  },
  {
   "cell_type": "markdown",
   "id": "ebddc9bd",
   "metadata": {},
   "source": [
    "#### Lists can have items of different data types"
   ]
  },
  {
   "cell_type": "code",
   "execution_count": 12,
   "id": "f4eaeb36",
   "metadata": {},
   "outputs": [
    {
     "name": "stdout",
     "output_type": "stream",
     "text": [
      "[1, 2, 3, 4, 'Hello', ['Hello', 'World'], {'name': 'John', 'city': 'Bengaluru'}]\n"
     ]
    }
   ],
   "source": [
    "lst = [1,2,3,4,'Hello', ['Hello', 'World'], {'name': 'John', 'city': 'Bengaluru'}]\n",
    "print(lst)"
   ]
  },
  {
   "cell_type": "code",
   "execution_count": 13,
   "id": "83c3fffc",
   "metadata": {},
   "outputs": [
    {
     "data": {
      "text/plain": [
       "list"
      ]
     },
     "execution_count": 13,
     "metadata": {},
     "output_type": "execute_result"
    }
   ],
   "source": [
    "type(lst)"
   ]
  },
  {
   "cell_type": "markdown",
   "id": "0f6b5b92",
   "metadata": {},
   "source": [
    "#### Accessing List Items Using Positive Indexing"
   ]
  },
  {
   "cell_type": "code",
   "execution_count": 16,
   "id": "6cd9fc5d",
   "metadata": {},
   "outputs": [
    {
     "name": "stdout",
     "output_type": "stream",
     "text": [
      "First Fruit:  banana\n",
      "Second Fruit:  orange\n",
      "Last Fruit:  lemon\n"
     ]
    }
   ],
   "source": [
    "fruits = ['banana', 'orange', 'mango', 'lemon']\n",
    "\n",
    "first_fruit = fruits[0]\n",
    "print('First Fruit: ', first_fruit)\n",
    "\n",
    "second_fruit = fruits[1]\n",
    "print('Second Fruit: ', second_fruit)\n",
    "\n",
    "last_fruit = fruits[3]\n",
    "print('Last Fruit: ', last_fruit)"
   ]
  },
  {
   "cell_type": "markdown",
   "id": "f7fe9a54",
   "metadata": {},
   "source": [
    "#### Accessing List Items Using Negative Indexing"
   ]
  },
  {
   "cell_type": "code",
   "execution_count": 17,
   "id": "c2d413d7",
   "metadata": {},
   "outputs": [
    {
     "name": "stdout",
     "output_type": "stream",
     "text": [
      "First Fruit:  banana\n",
      "Second Fruit:  orange\n",
      "Last Fruit:  lemon\n"
     ]
    }
   ],
   "source": [
    "fruits = ['banana', 'orange', 'mango', 'lemon']\n",
    "\n",
    "first_fruit = fruits[-4]\n",
    "second_fruit = fruits[-3]\n",
    "last_fruit = fruits[-1]\n",
    "\n",
    "print('First Fruit: ', first_fruit)\n",
    "print('Second Fruit: ', second_fruit)\n",
    "print('Last Fruit: ', last_fruit)"
   ]
  },
  {
   "cell_type": "markdown",
   "id": "9800b019",
   "metadata": {},
   "source": [
    "#### Unpacking List Items"
   ]
  },
  {
   "cell_type": "code",
   "execution_count": 19,
   "id": "643634c7",
   "metadata": {},
   "outputs": [
    {
     "name": "stdout",
     "output_type": "stream",
     "text": [
      "item1\n",
      "item2\n",
      "['item3', 'item4', 'item5']\n"
     ]
    }
   ],
   "source": [
    "lst = ['item1','item2','item3', 'item4', 'item5']\n",
    "first, second, *rest = lst\n",
    "print(first)\n",
    "print(second)\n",
    "print(rest)"
   ]
  },
  {
   "cell_type": "code",
   "execution_count": 20,
   "id": "e9f6d1bd",
   "metadata": {},
   "outputs": [
    {
     "name": "stdout",
     "output_type": "stream",
     "text": [
      "First Fruit:  banana\n",
      "Second Fruit:  orange\n",
      "Rest Fruits:  ['mango', 'lemon', 'lime', 'apple']\n"
     ]
    }
   ],
   "source": [
    "fruits = ['banana', 'orange', 'mango', 'lemon','lime','apple']\n",
    "first_fruit, second_fruit, *rest = fruits\n",
    "\n",
    "print('First Fruit: ', first_fruit)\n",
    "print('Second Fruit: ', second_fruit)\n",
    "print('Rest Fruits: ', rest)"
   ]
  },
  {
   "cell_type": "code",
   "execution_count": 22,
   "id": "119e33a3",
   "metadata": {},
   "outputs": [
    {
     "name": "stdout",
     "output_type": "stream",
     "text": [
      "1\n",
      "2\n",
      "3\n",
      "[4, 5, 6, 7, 8, 9]\n",
      "10\n"
     ]
    }
   ],
   "source": [
    "first, second, third, *rest, tenth = [1,2,3,4,5,6,7,8,9,10]\n",
    "\n",
    "print(first)\n",
    "print(second)\n",
    "print(third)\n",
    "print(rest)\n",
    "print(tenth)"
   ]
  },
  {
   "cell_type": "code",
   "execution_count": 23,
   "id": "8cd91864",
   "metadata": {},
   "outputs": [
    {
     "name": "stdout",
     "output_type": "stream",
     "text": [
      "Germany\n",
      "France\n",
      "Belgium\n",
      "Sweden\n",
      "['Denmark', 'Finland', 'Norway', 'Iceland']\n",
      "Estonia\n"
     ]
    }
   ],
   "source": [
    "countries = ['Germany', 'France','Belgium','Sweden','Denmark','Finland','Norway','Iceland','Estonia']\n",
    "gr, fr, be, sw, *scandic, es = countries\n",
    "\n",
    "print(gr)\n",
    "print(fr)\n",
    "print(be)\n",
    "print(sw)\n",
    "print(scandic)\n",
    "print(es)"
   ]
  },
  {
   "cell_type": "markdown",
   "id": "9accfaf6",
   "metadata": {},
   "source": [
    "#### Slicing Items from a List"
   ]
  },
  {
   "cell_type": "markdown",
   "id": "f5efa4d2",
   "metadata": {},
   "source": [
    "- `Positive Indexing`"
   ]
  },
  {
   "cell_type": "code",
   "execution_count": 32,
   "id": "29a4762b",
   "metadata": {},
   "outputs": [
    {
     "name": "stdout",
     "output_type": "stream",
     "text": [
      "All Fruits:  ['banana', 'orange', 'mango', 'lemon']\n",
      "All Fruits:  ['banana', 'orange', 'mango', 'lemon']\n",
      "['orange', 'mango']\n",
      "['orange', 'mango', 'lemon']\n",
      "['orange', 'lemon']\n"
     ]
    }
   ],
   "source": [
    "fruits = ['banana', 'orange', 'mango', 'lemon']\n",
    "\n",
    "all_fruits = fruits[0:4]\n",
    "print('All Fruits: ', all_fruits)\n",
    "\n",
    "all_fruits = fruits[0:]\n",
    "print('All Fruits: ', all_fruits)\n",
    "\n",
    "orange_and_mango = fruits[1:3]\n",
    "print(orange_and_mango)\n",
    "\n",
    "orange_mango_lemon = fruits[1:]\n",
    "print(orange_mango_lemon)\n",
    "\n",
    "orange_and_lemon = fruits[1:4:2]\n",
    "print(orange_and_lemon)"
   ]
  },
  {
   "cell_type": "markdown",
   "id": "701936e1",
   "metadata": {},
   "source": [
    "- `Negative Indexing`"
   ]
  },
  {
   "cell_type": "code",
   "execution_count": 40,
   "id": "5fec911b",
   "metadata": {},
   "outputs": [
    {
     "name": "stdout",
     "output_type": "stream",
     "text": [
      "['banana', 'orange', 'mango', 'lemon']\n",
      "['orange', 'mango']\n",
      "['orange', 'mango', 'lemon']\n",
      "['lemon', 'mango', 'orange', 'banana']\n"
     ]
    }
   ],
   "source": [
    "fruits = ['banana', 'orange', 'mango', 'lemon']\n",
    "\n",
    "all_fruits = fruits[-4:]\n",
    "print(all_fruits)\n",
    "\n",
    "orange_and_mango = fruits[-3:-1]\n",
    "print(orange_and_mango)\n",
    "\n",
    "orange_mango_lemon = fruits[-3:]\n",
    "print(orange_mango_lemon)\n",
    "\n",
    "reverse_fruits = fruits[::-1]\n",
    "print(reverse_fruits)"
   ]
  },
  {
   "cell_type": "markdown",
   "id": "dde823b7",
   "metadata": {},
   "source": [
    "#### Modifying Lists"
   ]
  },
  {
   "cell_type": "code",
   "execution_count": 46,
   "id": "e75e664e",
   "metadata": {},
   "outputs": [
    {
     "name": "stdout",
     "output_type": "stream",
     "text": [
      "['avocada', 'orange', 'mango', 'lemon']\n",
      "['avocada', 'apple', 'mango', 'lemon']\n",
      "['avocada', 'apple', 'mango', 'lime']\n"
     ]
    }
   ],
   "source": [
    "fruits = ['banana', 'orange', 'mango', 'lemon']\n",
    "\n",
    "fruits[0] = 'avocada'\n",
    "print(fruits)\n",
    "\n",
    "fruits[1] = 'apple'\n",
    "print(fruits)\n",
    "\n",
    "last_index = len(fruits) - 1\n",
    "fruits[last_index] = 'lime'\n",
    "print(fruits)"
   ]
  },
  {
   "cell_type": "markdown",
   "id": "1d89370e",
   "metadata": {},
   "source": [
    "#### Checking Items in a List"
   ]
  },
  {
   "cell_type": "code",
   "execution_count": 49,
   "id": "70303221",
   "metadata": {},
   "outputs": [
    {
     "name": "stdout",
     "output_type": "stream",
     "text": [
      "True\n",
      "False\n"
     ]
    }
   ],
   "source": [
    "fruits = ['banana', 'orange', 'mango', 'lemon']\n",
    "\n",
    "does_exist = 'banana' in fruits\n",
    "print(does_exist)\n",
    "\n",
    "does_exist = 'lime' in fruits\n",
    "print(does_exist)"
   ]
  },
  {
   "cell_type": "markdown",
   "id": "c36c8109",
   "metadata": {},
   "source": [
    "#### Adding Items to a List"
   ]
  },
  {
   "cell_type": "code",
   "execution_count": 52,
   "id": "5f75cf55",
   "metadata": {},
   "outputs": [
    {
     "name": "stdout",
     "output_type": "stream",
     "text": [
      "['banana', 'orange', 'mango', 'lemon']\n",
      "['banana', 'orange', 'mango', 'lemon', 'apple']\n",
      "['banana', 'orange', 'mango', 'lemon', 'apple', 'lime']\n"
     ]
    }
   ],
   "source": [
    "fruits = ['banana', 'orange', 'mango', 'lemon']\n",
    "print(fruits)\n",
    "\n",
    "fruits.append('apple')\n",
    "print(fruits)\n",
    "\n",
    "fruits.append('lime')\n",
    "print(fruits)"
   ]
  },
  {
   "cell_type": "markdown",
   "id": "bab3cabc",
   "metadata": {},
   "source": [
    "#### Inserting Items into a List"
   ]
  },
  {
   "cell_type": "code",
   "execution_count": 56,
   "id": "b152525c",
   "metadata": {},
   "outputs": [
    {
     "name": "stdout",
     "output_type": "stream",
     "text": [
      "['banana', 'orange', 'mango', 'lemon']\n",
      "['banana', 'orange', 'apple', 'mango', 'lemon']\n",
      "['banana', 'orange', 'apple', 'mango', 'lime', 'lemon']\n"
     ]
    }
   ],
   "source": [
    "fruits = ['banana', 'orange', 'mango', 'lemon']\n",
    "print(fruits)\n",
    "\n",
    "fruits.insert(2, 'apple')\n",
    "print(fruits)\n",
    "\n",
    "fruits.insert(4, 'lime')\n",
    "print(fruits)"
   ]
  },
  {
   "cell_type": "markdown",
   "id": "b396bdfc",
   "metadata": {},
   "source": [
    "#### Removing Items from a List"
   ]
  },
  {
   "cell_type": "code",
   "execution_count": 60,
   "id": "6ff7b7a6",
   "metadata": {},
   "outputs": [
    {
     "name": "stdout",
     "output_type": "stream",
     "text": [
      "['banana', 'orange', 'mango', 'lemon', 'banana']\n",
      "['banana', 'mango', 'lemon', 'banana']\n",
      "['banana', 'mango', 'banana']\n"
     ]
    }
   ],
   "source": [
    "fruits = ['banana', 'orange', 'mango', 'lemon', 'banana']\n",
    "print(fruits)\n",
    "\n",
    "fruits.remove('orange')\n",
    "print(fruits)\n",
    "\n",
    "fruits.remove('lemon')\n",
    "print(fruits)"
   ]
  },
  {
   "cell_type": "markdown",
   "id": "ab7b5fa4",
   "metadata": {},
   "source": [
    "#### Removing Items Using Pop"
   ]
  },
  {
   "cell_type": "code",
   "execution_count": 63,
   "id": "303b1c77",
   "metadata": {},
   "outputs": [
    {
     "name": "stdout",
     "output_type": "stream",
     "text": [
      "['banana', 'orange', 'mango', 'lemon']\n",
      "['banana', 'orange', 'mango']\n",
      "['orange', 'mango']\n"
     ]
    }
   ],
   "source": [
    "fruits = ['banana', 'orange', 'mango', 'lemon']\n",
    "print(fruits)\n",
    "\n",
    "fruits.pop()\n",
    "print(fruits)\n",
    "\n",
    "fruits.pop(0)\n",
    "print(fruits)"
   ]
  },
  {
   "cell_type": "markdown",
   "id": "e5fcf047",
   "metadata": {},
   "source": [
    "#### Removing Items Using Del"
   ]
  },
  {
   "cell_type": "code",
   "execution_count": 69,
   "id": "1e970f0d",
   "metadata": {},
   "outputs": [
    {
     "name": "stdout",
     "output_type": "stream",
     "text": [
      "['banana', 'mango', 'lemon', 'kiwi', 'lime']\n",
      "['banana', 'mango', 'lemon', 'kiwi']\n",
      "['banana', 'kiwi']\n"
     ]
    },
    {
     "ename": "NameError",
     "evalue": "name 'fruits' is not defined",
     "output_type": "error",
     "traceback": [
      "\u001b[1;31m---------------------------------------------------------------------------\u001b[0m",
      "\u001b[1;31mNameError\u001b[0m                                 Traceback (most recent call last)",
      "Cell \u001b[1;32mIn[69], line 13\u001b[0m\n\u001b[0;32m     10\u001b[0m \u001b[38;5;28mprint\u001b[39m(fruits)\n\u001b[0;32m     12\u001b[0m \u001b[38;5;28;01mdel\u001b[39;00m fruits\n\u001b[1;32m---> 13\u001b[0m \u001b[38;5;28mprint\u001b[39m(\u001b[43mfruits\u001b[49m)\n",
      "\u001b[1;31mNameError\u001b[0m: name 'fruits' is not defined"
     ]
    }
   ],
   "source": [
    "fruits = ['banana', 'orange', 'mango', 'lemon', 'kiwi', 'lime']\n",
    "\n",
    "del fruits[1]\n",
    "print(fruits)\n",
    "\n",
    "del fruits[4]\n",
    "print(fruits)\n",
    "\n",
    "del fruits[1:3]\n",
    "print(fruits)\n",
    "\n",
    "del fruits\n",
    "print(fruits)"
   ]
  },
  {
   "cell_type": "markdown",
   "id": "e6ae2ecf",
   "metadata": {},
   "source": [
    "#### Clearing List Items"
   ]
  },
  {
   "cell_type": "code",
   "execution_count": 70,
   "id": "6fa014cf",
   "metadata": {},
   "outputs": [
    {
     "name": "stdout",
     "output_type": "stream",
     "text": [
      "[]\n"
     ]
    }
   ],
   "source": [
    "fruits = ['banana', 'orange', 'mango', 'lemon']\n",
    "\n",
    "fruits.clear()\n",
    "print(fruits)"
   ]
  },
  {
   "cell_type": "markdown",
   "id": "fca8fa3f",
   "metadata": {},
   "source": [
    "#### Copying a List"
   ]
  },
  {
   "cell_type": "code",
   "execution_count": 71,
   "id": "b874347c",
   "metadata": {},
   "outputs": [
    {
     "name": "stdout",
     "output_type": "stream",
     "text": [
      "['banana', 'orange', 'mango', 'lemon']\n"
     ]
    }
   ],
   "source": [
    "fruits = ['banana', 'orange', 'mango', 'lemon']\n",
    "\n",
    "fruits_copy = fruits.copy()\n",
    "print(fruits_copy)"
   ]
  },
  {
   "cell_type": "markdown",
   "id": "1e4fb028",
   "metadata": {},
   "source": [
    "#### Joining Lists"
   ]
  },
  {
   "cell_type": "code",
   "execution_count": 72,
   "id": "34253a64",
   "metadata": {},
   "outputs": [
    {
     "name": "stdout",
     "output_type": "stream",
     "text": [
      "[-5, -4, -3, -2, -1, 0, 1, 2, 3, 4, 5]\n"
     ]
    }
   ],
   "source": [
    "positive_numbers = [1, 2, 3, 4, 5]\n",
    "zero = [0]\n",
    "negative_numbers = [-5,-4,-3,-2,-1]\n",
    "\n",
    "integers = negative_numbers + zero + positive_numbers\n",
    "print(integers)"
   ]
  },
  {
   "cell_type": "code",
   "execution_count": 73,
   "id": "37bff54a",
   "metadata": {},
   "outputs": [
    {
     "name": "stdout",
     "output_type": "stream",
     "text": [
      "['banana', 'orange', 'mango', 'lemon', 'Tomato', 'Potato', 'Cabbage', 'Onion', 'Carrot']\n"
     ]
    }
   ],
   "source": [
    "fruits = ['banana', 'orange', 'mango', 'lemon']\n",
    "vegetables = ['Tomato', 'Potato', 'Cabbage', 'Onion', 'Carrot']\n",
    "\n",
    "fruits_and_vegetables = fruits + vegetables\n",
    "print(fruits_and_vegetables)"
   ]
  },
  {
   "cell_type": "markdown",
   "id": "53e85c0c",
   "metadata": {},
   "source": [
    "- `Joining using extend() method`"
   ]
  },
  {
   "cell_type": "code",
   "execution_count": 77,
   "id": "51f9d085",
   "metadata": {},
   "outputs": [
    {
     "name": "stdout",
     "output_type": "stream",
     "text": [
      "Numbers: [0, 1, 2, 3, 4, 5, 6]\n"
     ]
    }
   ],
   "source": [
    "num1 = [0, 1, 2, 3]\n",
    "num2= [4, 5, 6]\n",
    "num1.extend(num2)\n",
    "print('Numbers:', num1)"
   ]
  },
  {
   "cell_type": "code",
   "execution_count": 79,
   "id": "57c10e61",
   "metadata": {},
   "outputs": [
    {
     "name": "stdout",
     "output_type": "stream",
     "text": [
      "Integers:  [-5, -4, -3, -2, -1, 0, 1, 2, 3, 4, 5]\n"
     ]
    }
   ],
   "source": [
    "negative_numbers = [-5,-4,-3,-2,-1]\n",
    "positive_numbers = [1, 2, 3,4,5]\n",
    "zero = [0]\n",
    "\n",
    "negative_numbers.extend(zero)\n",
    "negative_numbers.extend(positive_numbers)\n",
    "print('Integers: ', negative_numbers)"
   ]
  },
  {
   "cell_type": "code",
   "execution_count": 80,
   "id": "5ddbb3cb",
   "metadata": {},
   "outputs": [
    {
     "name": "stdout",
     "output_type": "stream",
     "text": [
      "Fruits and vegetable:  ['banana', 'orange', 'mango', 'lemon', 'Tomato', 'Potato', 'Cabbage', 'Onion', 'Carrot']\n"
     ]
    }
   ],
   "source": [
    "fruits = ['banana', 'orange', 'mango', 'lemon']\n",
    "vegetables = ['Tomato', 'Potato', 'Cabbage', 'Onion', 'Carrot']\n",
    "\n",
    "fruits.extend(vegetables)\n",
    "print('Fruits and vegetable: ', fruits)"
   ]
  },
  {
   "cell_type": "markdown",
   "id": "9767dbfb",
   "metadata": {},
   "source": [
    "#### Counting Items in a List"
   ]
  },
  {
   "cell_type": "code",
   "execution_count": 83,
   "id": "3518e13d",
   "metadata": {},
   "outputs": [
    {
     "name": "stdout",
     "output_type": "stream",
     "text": [
      "Number of orange:  1\n"
     ]
    }
   ],
   "source": [
    "fruits = ['banana', 'orange', 'mango', 'lemon']\n",
    "print('Number of orange: ', fruits.count('orange'))"
   ]
  },
  {
   "cell_type": "code",
   "execution_count": 84,
   "id": "323f4883",
   "metadata": {},
   "outputs": [
    {
     "name": "stdout",
     "output_type": "stream",
     "text": [
      "3\n"
     ]
    }
   ],
   "source": [
    "ages = [22, 19, 24, 25, 26, 24, 25, 24]\n",
    "\n",
    "print(ages.count(24))"
   ]
  },
  {
   "cell_type": "markdown",
   "id": "da514d7e",
   "metadata": {},
   "source": [
    "#### Finding Index of an Item"
   ]
  },
  {
   "cell_type": "code",
   "execution_count": 88,
   "id": "ddd6de46",
   "metadata": {},
   "outputs": [
    {
     "name": "stdout",
     "output_type": "stream",
     "text": [
      "1\n",
      "3\n"
     ]
    }
   ],
   "source": [
    "fruits = ['banana', 'orange', 'mango', 'lemon']\n",
    "\n",
    "print(fruits.index('orange'))\n",
    "\n",
    "ages = [22, 19, 24, 25, 26, 24, 25, 24]\n",
    "print(ages.index(25))"
   ]
  },
  {
   "cell_type": "markdown",
   "id": "7bb7d507",
   "metadata": {},
   "source": [
    "#### Reversing a List"
   ]
  },
  {
   "cell_type": "code",
   "execution_count": 93,
   "id": "ead8d53b",
   "metadata": {},
   "outputs": [
    {
     "name": "stdout",
     "output_type": "stream",
     "text": [
      "['lemon', 'mango', 'orange', 'banana']\n",
      "[24, 25, 24, 26, 25, 24, 19, 22]\n"
     ]
    }
   ],
   "source": [
    "fruits = ['banana', 'orange', 'mango', 'lemon']\n",
    "\n",
    "fruits.reverse()\n",
    "print(fruits)\n",
    "\n",
    "ages = [22, 19, 24, 25, 26, 24, 25, 24]\n",
    "ages.reverse()\n",
    "print(ages)"
   ]
  },
  {
   "cell_type": "markdown",
   "id": "5e20569d",
   "metadata": {},
   "source": [
    "#### Sorting List Items"
   ]
  },
  {
   "cell_type": "code",
   "execution_count": 95,
   "id": "113d9d34",
   "metadata": {},
   "outputs": [
    {
     "name": "stdout",
     "output_type": "stream",
     "text": [
      "['banana', 'lemon', 'mango', 'orange']\n",
      "['orange', 'mango', 'lemon', 'banana']\n"
     ]
    }
   ],
   "source": [
    "fruits = ['banana', 'orange', 'mango', 'lemon']\n",
    "fruits.sort()\n",
    "print(fruits)\n",
    "\n",
    "fruits.sort(reverse=True)\n",
    "print(fruits)"
   ]
  },
  {
   "cell_type": "code",
   "execution_count": 97,
   "id": "d4b5571d",
   "metadata": {},
   "outputs": [
    {
     "name": "stdout",
     "output_type": "stream",
     "text": [
      "[19, 22, 24, 24, 24, 25, 25, 26]\n",
      "[26, 25, 25, 24, 24, 24, 22, 19]\n"
     ]
    }
   ],
   "source": [
    "ages = [22, 19, 24, 25, 26, 24, 25, 24]\n",
    "ages.sort()\n",
    "print(ages)\n",
    "\n",
    "ages.sort(reverse=True)\n",
    "print(ages)"
   ]
  },
  {
   "cell_type": "markdown",
   "id": "e1ba470a",
   "metadata": {},
   "source": [
    "- `sorted()`"
   ]
  },
  {
   "cell_type": "code",
   "execution_count": 98,
   "id": "c1c31536",
   "metadata": {},
   "outputs": [
    {
     "name": "stdout",
     "output_type": "stream",
     "text": [
      "['banana', 'lemon', 'mango', 'orange']\n",
      "['banana', 'orange', 'mango', 'lemon']\n"
     ]
    }
   ],
   "source": [
    "fruits = ['banana', 'orange', 'mango', 'lemon']\n",
    "print(sorted(fruits))\n",
    "print(fruits)"
   ]
  },
  {
   "cell_type": "code",
   "execution_count": 99,
   "id": "5a501ad3",
   "metadata": {},
   "outputs": [
    {
     "name": "stdout",
     "output_type": "stream",
     "text": [
      "['orange', 'mango', 'lemon', 'banana']\n",
      "['banana', 'orange', 'mango', 'lemon']\n"
     ]
    }
   ],
   "source": [
    "print(sorted(fruits, reverse=True))\n",
    "print(fruits)"
   ]
  },
  {
   "cell_type": "code",
   "execution_count": null,
   "id": "7d8c052c",
   "metadata": {},
   "outputs": [],
   "source": []
  }
 ],
 "metadata": {
  "kernelspec": {
   "display_name": ".venv (3.10.18)",
   "language": "python",
   "name": "python3"
  },
  "language_info": {
   "codemirror_mode": {
    "name": "ipython",
    "version": 3
   },
   "file_extension": ".py",
   "mimetype": "text/x-python",
   "name": "python",
   "nbconvert_exporter": "python",
   "pygments_lexer": "ipython3",
   "version": "3.10.18"
  }
 },
 "nbformat": 4,
 "nbformat_minor": 5
}
