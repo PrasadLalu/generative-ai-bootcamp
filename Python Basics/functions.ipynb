{
 "cells": [
  {
   "cell_type": "markdown",
   "id": "a7b9620a",
   "metadata": {},
   "source": [
    "## Functions"
   ]
  },
  {
   "cell_type": "code",
   "execution_count": 1,
   "id": "61fb9df8",
   "metadata": {},
   "outputs": [],
   "source": [
    "def generate_full_name():\n",
    "    first_name = 'John'\n",
    "    last_name = 'Doe'\n",
    "    return first_name + ' ' + last_name"
   ]
  },
  {
   "cell_type": "code",
   "execution_count": 2,
   "id": "9c02c693",
   "metadata": {},
   "outputs": [
    {
     "data": {
      "text/plain": [
       "'John Doe'"
      ]
     },
     "execution_count": 2,
     "metadata": {},
     "output_type": "execute_result"
    }
   ],
   "source": [
    "generate_full_name()"
   ]
  },
  {
   "cell_type": "code",
   "execution_count": 4,
   "id": "cfc47ba7",
   "metadata": {},
   "outputs": [],
   "source": [
    "def add_two_numbers(a:int, b:int) -> int:\n",
    "    return a + b"
   ]
  },
  {
   "cell_type": "code",
   "execution_count": 5,
   "id": "ec713d6a",
   "metadata": {},
   "outputs": [
    {
     "data": {
      "text/plain": [
       "30"
      ]
     },
     "execution_count": 5,
     "metadata": {},
     "output_type": "execute_result"
    }
   ],
   "source": [
    "add_two_numbers(10, 20)"
   ]
  },
  {
   "cell_type": "code",
   "execution_count": 6,
   "id": "1879b459",
   "metadata": {},
   "outputs": [],
   "source": [
    "def area_of_circle(r):\n",
    "    PI = 3.14\n",
    "    area = PI * r ** 2\n",
    "    return area"
   ]
  },
  {
   "cell_type": "code",
   "execution_count": 7,
   "id": "d413a5c3",
   "metadata": {},
   "outputs": [
    {
     "data": {
      "text/plain": [
       "50.24"
      ]
     },
     "execution_count": 7,
     "metadata": {},
     "output_type": "execute_result"
    }
   ],
   "source": [
    "area_of_circle(4)"
   ]
  },
  {
   "cell_type": "code",
   "execution_count": 14,
   "id": "9144bb32",
   "metadata": {},
   "outputs": [],
   "source": [
    "def sum_of_numbers(n):\n",
    "    total = 0\n",
    "    for i in range(n+1):\n",
    "        total += i\n",
    "    return total"
   ]
  },
  {
   "cell_type": "code",
   "execution_count": 15,
   "id": "310411a4",
   "metadata": {},
   "outputs": [
    {
     "data": {
      "text/plain": [
       "55"
      ]
     },
     "execution_count": 15,
     "metadata": {},
     "output_type": "execute_result"
    }
   ],
   "source": [
    "sum_of_numbers(10)"
   ]
  },
  {
   "cell_type": "code",
   "execution_count": 16,
   "id": "454b97e4",
   "metadata": {},
   "outputs": [],
   "source": [
    "def greeting(name = 'John'):\n",
    "    return f'Hello {name}'"
   ]
  },
  {
   "cell_type": "code",
   "execution_count": 19,
   "id": "e501c0ee",
   "metadata": {},
   "outputs": [
    {
     "name": "stdout",
     "output_type": "stream",
     "text": [
      "Hello John\n",
      "Hello Peter\n",
      "Hello Jessica\n"
     ]
    }
   ],
   "source": [
    "print(greeting())\n",
    "print(greeting('Peter'))\n",
    "print(greeting('Jessica'))"
   ]
  },
  {
   "cell_type": "markdown",
   "id": "684d69a7",
   "metadata": {},
   "source": [
    "#### Arbitrary Number of Arguments"
   ]
  },
  {
   "cell_type": "code",
   "execution_count": 22,
   "id": "c76ae23f",
   "metadata": {},
   "outputs": [],
   "source": [
    "def sum_of_numbers(*nums):\n",
    "    total = 0\n",
    "    for num in nums:\n",
    "        total += num\n",
    "    return total"
   ]
  },
  {
   "cell_type": "code",
   "execution_count": 23,
   "id": "02382dea",
   "metadata": {},
   "outputs": [
    {
     "data": {
      "text/plain": [
       "15"
      ]
     },
     "execution_count": 23,
     "metadata": {},
     "output_type": "execute_result"
    }
   ],
   "source": [
    "sum_of_numbers(2,3,4,6)"
   ]
  },
  {
   "cell_type": "code",
   "execution_count": 30,
   "id": "3f5b4b2d",
   "metadata": {},
   "outputs": [],
   "source": [
    "def generate_group(team, *args):\n",
    "    print(f'{team}:')\n",
    "    for i in args:\n",
    "        print(i)"
   ]
  },
  {
   "cell_type": "code",
   "execution_count": 31,
   "id": "37b16ef2",
   "metadata": {},
   "outputs": [
    {
     "name": "stdout",
     "output_type": "stream",
     "text": [
      "Team-1:\n",
      "John\n",
      "Peter\n",
      "Jessica\n",
      "Max\n"
     ]
    }
   ],
   "source": [
    "generate_group('Team-1', 'John', 'Peter', 'Jessica', 'Max')"
   ]
  },
  {
   "cell_type": "code",
   "execution_count": 32,
   "id": "7610eb51",
   "metadata": {},
   "outputs": [],
   "source": [
    "def square_number(n):\n",
    "    return n * n\n",
    "\n",
    "def do_something(f, x):\n",
    "    return f(x)"
   ]
  },
  {
   "cell_type": "code",
   "execution_count": 33,
   "id": "2cef5475",
   "metadata": {},
   "outputs": [
    {
     "data": {
      "text/plain": [
       "25"
      ]
     },
     "execution_count": 33,
     "metadata": {},
     "output_type": "execute_result"
    }
   ],
   "source": [
    "do_something(square_number, 5)"
   ]
  },
  {
   "cell_type": "markdown",
   "id": "f2e24ab8",
   "metadata": {},
   "source": [
    "#### Exercises:"
   ]
  },
  {
   "cell_type": "code",
   "execution_count": 34,
   "id": "258e871a",
   "metadata": {},
   "outputs": [
    {
     "data": {
      "text/plain": [
       "50"
      ]
     },
     "execution_count": 34,
     "metadata": {},
     "output_type": "execute_result"
    }
   ],
   "source": [
    "def add_two_numbers(a:int, b:int) -> int:\n",
    "    return a + b\n",
    "\n",
    "add_two_numbers(20, 30)"
   ]
  },
  {
   "cell_type": "code",
   "execution_count": 35,
   "id": "0ef29a86",
   "metadata": {},
   "outputs": [
    {
     "data": {
      "text/plain": [
       "50.24"
      ]
     },
     "execution_count": 35,
     "metadata": {},
     "output_type": "execute_result"
    }
   ],
   "source": [
    "def area_of_circle(r: float):\n",
    "    PI = 3.14\n",
    "    return PI * r ** 2\n",
    "\n",
    "area_of_circle(4)"
   ]
  },
  {
   "cell_type": "code",
   "execution_count": 45,
   "id": "0ce2e704",
   "metadata": {},
   "outputs": [
    {
     "data": {
      "text/plain": [
       "15"
      ]
     },
     "execution_count": 45,
     "metadata": {},
     "output_type": "execute_result"
    }
   ],
   "source": [
    "def add_all_nums(*args):\n",
    "    total = 0\n",
    "    for arg in args:\n",
    "        if not isinstance(arg, (int, float)):\n",
    "            return f'Invalid input: {arg} is not a number.'\n",
    "        total += arg\n",
    "    \n",
    "    return total\n",
    "    \n",
    "add_all_nums(1,2,3,4,5)"
   ]
  },
  {
   "cell_type": "code",
   "execution_count": 50,
   "id": "8e6824f2",
   "metadata": {},
   "outputs": [
    {
     "name": "stdout",
     "output_type": "stream",
     "text": [
      "['Potato', 'Tomato', 'Mango', 'Milk', 'Meat']\n"
     ]
    }
   ],
   "source": [
    "def add_item(food_staff, item):\n",
    "    items = list()\n",
    "    for staff in food_staff:\n",
    "        items.append(staff)\n",
    "\n",
    "    items.append(item)\n",
    "    return items\n",
    "\n",
    "food_staff = ['Potato', 'Tomato', 'Mango', 'Milk']\n",
    "print(add_item(food_staff, 'Meat'))"
   ]
  },
  {
   "cell_type": "code",
   "execution_count": 55,
   "id": "0a94abf5",
   "metadata": {},
   "outputs": [
    {
     "name": "stdout",
     "output_type": "stream",
     "text": [
      "['Potato', 'Tomato', 'Milk']\n"
     ]
    }
   ],
   "source": [
    "def remove_item(food_staff: list, item: str):\n",
    "    food_staff.remove(item)\n",
    "    return food_staff\n",
    "    \n",
    "food_staff = ['Potato', 'Tomato', 'Mango', 'Milk']\n",
    "print(remove_item(food_staff, 'Mango'))"
   ]
  },
  {
   "cell_type": "code",
   "execution_count": 57,
   "id": "96f285c6",
   "metadata": {},
   "outputs": [
    {
     "name": "stdout",
     "output_type": "stream",
     "text": [
      "15\n",
      "55\n",
      "5050\n"
     ]
    }
   ],
   "source": [
    "def sum_of_numbers(num):\n",
    "    total = 0\n",
    "    for i in range(num+1):\n",
    "        total += i\n",
    "        \n",
    "    return total\n",
    "\n",
    "print(sum_of_numbers(5))\n",
    "print(sum_of_numbers(10))\n",
    "print(sum_of_numbers(100))"
   ]
  },
  {
   "cell_type": "code",
   "execution_count": 60,
   "id": "f72c313a",
   "metadata": {},
   "outputs": [
    {
     "name": "stdout",
     "output_type": "stream",
     "text": [
      "25\n",
      "20\n"
     ]
    }
   ],
   "source": [
    "def sum_of_odds(*nums):\n",
    "    total = 0\n",
    "    for num in nums:\n",
    "        if num % 2 != 0:\n",
    "            total += num        \n",
    "    return total\n",
    "\n",
    "def sum_of_evens(*nums):\n",
    "    total = 0\n",
    "    for num in nums:\n",
    "        if num % 2 == 0:\n",
    "            total += num \n",
    "    return total\n",
    "\n",
    "print(sum_of_odds(1,2,3,4,5,6,7,8,9))\n",
    "print(sum_of_evens(1,2,3,4,5,6,7,8,9))"
   ]
  },
  {
   "cell_type": "code",
   "execution_count": 65,
   "id": "d71f465c",
   "metadata": {},
   "outputs": [
    {
     "name": "stdout",
     "output_type": "stream",
     "text": [
      "The number of odds are: 50\n",
      "The number of evens are: 51\n",
      "None\n"
     ]
    }
   ],
   "source": [
    "def evens_and_odds(num):\n",
    "    even_total = 0\n",
    "    odd_total = 0\n",
    "    for n in range(num+1):\n",
    "        if n % 2 == 0:\n",
    "            even_total += 1\n",
    "        else:\n",
    "            odd_total += 1\n",
    "\n",
    "    print(f'The number of odds are: {odd_total}')\n",
    "    print(f'The number of evens are: {even_total}')\n",
    "    return\n",
    "            \n",
    "print(evens_and_odds(100))"
   ]
  },
  {
   "cell_type": "code",
   "execution_count": null,
   "id": "7c267500",
   "metadata": {},
   "outputs": [],
   "source": []
  }
 ],
 "metadata": {
  "kernelspec": {
   "display_name": ".venv (3.10.18)",
   "language": "python",
   "name": "python3"
  },
  "language_info": {
   "codemirror_mode": {
    "name": "ipython",
    "version": 3
   },
   "file_extension": ".py",
   "mimetype": "text/x-python",
   "name": "python",
   "nbconvert_exporter": "python",
   "pygments_lexer": "ipython3",
   "version": "3.10.18"
  }
 },
 "nbformat": 4,
 "nbformat_minor": 5
}
