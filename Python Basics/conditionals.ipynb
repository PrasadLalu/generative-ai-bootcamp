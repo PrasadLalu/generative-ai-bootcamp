{
 "cells": [
  {
   "cell_type": "markdown",
   "id": "96004718",
   "metadata": {},
   "source": [
    "## Conditionals"
   ]
  },
  {
   "cell_type": "code",
   "execution_count": 3,
   "id": "1d8f4f05",
   "metadata": {},
   "outputs": [
    {
     "name": "stdout",
     "output_type": "stream",
     "text": [
      "a is positive number\n"
     ]
    }
   ],
   "source": [
    "a = 3\n",
    "if a > 0:\n",
    "    print('a is positive number')"
   ]
  },
  {
   "cell_type": "code",
   "execution_count": 6,
   "id": "102fe9ce",
   "metadata": {},
   "outputs": [
    {
     "name": "stdout",
     "output_type": "stream",
     "text": [
      "-3 is negative number.\n"
     ]
    }
   ],
   "source": [
    "a = -3\n",
    "\n",
    "if a > 0:\n",
    "    print(f'{a} is positive number')\n",
    "else:\n",
    "    print(f'{a} is negative number.')"
   ]
  },
  {
   "cell_type": "code",
   "execution_count": 7,
   "id": "e08aa83c",
   "metadata": {},
   "outputs": [
    {
     "name": "stdout",
     "output_type": "stream",
     "text": [
      "A is zero\n"
     ]
    }
   ],
   "source": [
    "a = 0\n",
    "if a > 0:\n",
    "    print('A is a positive number')\n",
    "elif a < 0:\n",
    "    print('A is a negative number')\n",
    "else:\n",
    "    print('A is zero')"
   ]
  },
  {
   "cell_type": "code",
   "execution_count": null,
   "id": "c3ecd750",
   "metadata": {},
   "outputs": [
    {
     "name": "stdout",
     "output_type": "stream",
     "text": [
      "You are old enough to learn to drive\n"
     ]
    }
   ],
   "source": [
    "age_input = input('enter your age: ')\n",
    "age = int(age_input)\n",
    "if age > 18:\n",
    "    print('You are old enough to learn to drive.')\n",
    "else:\n",
    "    remaining_age = 18-age\n",
    "    print(f'You need {remaining_age} more years to learn to drive.')"
   ]
  },
  {
   "cell_type": "code",
   "execution_count": 15,
   "id": "2e2325eb",
   "metadata": {},
   "outputs": [
    {
     "name": "stdout",
     "output_type": "stream",
     "text": [
      "4 is greater than 3\n"
     ]
    }
   ],
   "source": [
    "input_one = input('Enter number one: ')\n",
    "input_two = input('Enter number two: ')\n",
    "\n",
    "one = int(input_one) \n",
    "two = int(input_two)\n",
    "if one > two:\n",
    "    print(f'{one} is greater than {two}')\n",
    "else:\n",
    "    print(f'{two} is greater than {one}')"
   ]
  },
  {
   "cell_type": "code",
   "execution_count": null,
   "id": "eb7a0d0f",
   "metadata": {},
   "outputs": [
    {
     "name": "stdout",
     "output_type": "stream",
     "text": [
      "Autumn\n"
     ]
    }
   ],
   "source": [
    "season = input('Enter season: ')\n",
    "\n",
    "if season == 'September' or season == 'October' or season == 'November':\n",
    "    print('Autumn')\n",
    "elif season == 'December' or season == 'January' or season == 'February':\n",
    "    print('Winter')\n",
    "elif season == 'March' or season == 'April' or season == 'May':\n",
    "    print('Spring')\n",
    "\n",
    "elif season == 'June' or season == 'July' or season == 'August':\n",
    "    print('Summer')"
   ]
  },
  {
   "cell_type": "code",
   "execution_count": 24,
   "id": "394178c5",
   "metadata": {},
   "outputs": [
    {
     "name": "stdout",
     "output_type": "stream",
     "text": [
      "That fruit already exist in the list\n"
     ]
    }
   ],
   "source": [
    "fruit = input('Enter fruit name: ')\n",
    "fruits = ['banana', 'orange', 'mango', 'lemon']\n",
    "\n",
    "if fruit in fruits:\n",
    "    print('That fruit already exist in the list')\n",
    "else:\n",
    "    fruits.append(fruit)\n",
    "    print('Fruits: ', fruits)"
   ]
  },
  {
   "cell_type": "code",
   "execution_count": 39,
   "id": "2937d935",
   "metadata": {},
   "outputs": [
    {
     "data": {
      "text/plain": [
       "{'first_name': 'John',\n",
       " 'last_name': 'Doe',\n",
       " 'age': 250,\n",
       " 'country': 'India',\n",
       " 'is_marred': True,\n",
       " 'skills': ['JavaScript', 'React', 'Node', 'MongoDB', 'Python'],\n",
       " 'address': {'street': 'Space street', 'zipcode': '02210'}}"
      ]
     },
     "execution_count": 39,
     "metadata": {},
     "output_type": "execute_result"
    }
   ],
   "source": [
    "person = {\n",
    "    'first_name': 'John',\n",
    "    'last_name': 'Doe',\n",
    "    'age': 250,\n",
    "    'country': 'India',\n",
    "    'is_marred': True,\n",
    "    'skills': ['JavaScript', 'React', 'Node', 'MongoDB', 'Python'],\n",
    "    'address': {\n",
    "        'street': 'Space street',\n",
    "        'zipcode': '02210'\n",
    "    }\n",
    "}\n",
    "person"
   ]
  },
  {
   "cell_type": "code",
   "execution_count": 29,
   "id": "84a95353",
   "metadata": {},
   "outputs": [
    {
     "name": "stdout",
     "output_type": "stream",
     "text": [
      "['JavaScript', 'React', 'Node', 'MongoDB', 'Python']\n"
     ]
    }
   ],
   "source": [
    "if 'skills' in person.keys():\n",
    "    print(person['skills'])"
   ]
  },
  {
   "cell_type": "code",
   "execution_count": 33,
   "id": "acf2eeaf",
   "metadata": {},
   "outputs": [
    {
     "name": "stdout",
     "output_type": "stream",
     "text": [
      "Yes\n"
     ]
    }
   ],
   "source": [
    "if 'skills' in person.keys():\n",
    "    if 'Python' in person['skills']:\n",
    "        print('Yes')\n",
    "    else:\n",
    "        print('No')"
   ]
  },
  {
   "cell_type": "code",
   "execution_count": null,
   "id": "7d0232c8",
   "metadata": {},
   "outputs": [
    {
     "name": "stdout",
     "output_type": "stream",
     "text": [
      "He is a front end developer\n"
     ]
    }
   ],
   "source": [
    "if 'JavaScript' in person['skills'] and 'React' in person['skills']:\n",
    "    print('He is a front end developer')\n",
    "elif 'Node' in person['skills'] and 'Python' in person['skills'] and 'MongoDB' in person['skills']:\n",
    "    print('He is a backend developer')\n",
    "elif 'Node' in person['skills'] and 'React' in person['skills'] and 'MongoDB' in person['skills']:\n",
    "    print('He is a fullstack developer')\n",
    "else:\n",
    "    print('unknown title')\n",
    "    "
   ]
  },
  {
   "cell_type": "code",
   "execution_count": 54,
   "id": "5a5446c1",
   "metadata": {},
   "outputs": [
    {
     "name": "stdout",
     "output_type": "stream",
     "text": [
      "John Doe lives in India. He is married.\n"
     ]
    }
   ],
   "source": [
    "if person['is_marred'] and person['country'] == 'India':\n",
    "    print('{} {} lives in {}. He is married.'.format(person['first_name'], person['last_name'], person['country']))"
   ]
  },
  {
   "cell_type": "code",
   "execution_count": null,
   "id": "15a45fbd",
   "metadata": {},
   "outputs": [],
   "source": []
  }
 ],
 "metadata": {
  "kernelspec": {
   "display_name": ".venv (3.10.18)",
   "language": "python",
   "name": "python3"
  },
  "language_info": {
   "codemirror_mode": {
    "name": "ipython",
    "version": 3
   },
   "file_extension": ".py",
   "mimetype": "text/x-python",
   "name": "python",
   "nbconvert_exporter": "python",
   "pygments_lexer": "ipython3",
   "version": "3.10.18"
  }
 },
 "nbformat": 4,
 "nbformat_minor": 5
}
