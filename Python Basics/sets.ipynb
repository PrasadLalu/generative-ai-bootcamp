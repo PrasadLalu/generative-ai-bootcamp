{
 "cells": [
  {
   "cell_type": "markdown",
   "id": "92f649c4",
   "metadata": {},
   "source": [
    "## Sets"
   ]
  },
  {
   "cell_type": "markdown",
   "id": "ba08b865",
   "metadata": {},
   "source": [
    "#### Creating a Set"
   ]
  },
  {
   "cell_type": "code",
   "execution_count": 1,
   "id": "e87f36fe",
   "metadata": {},
   "outputs": [
    {
     "data": {
      "text/plain": [
       "set()"
      ]
     },
     "execution_count": 1,
     "metadata": {},
     "output_type": "execute_result"
    }
   ],
   "source": [
    "st = set()\n",
    "st"
   ]
  },
  {
   "cell_type": "code",
   "execution_count": 2,
   "id": "a24785de",
   "metadata": {},
   "outputs": [
    {
     "data": {
      "text/plain": [
       "{'banana', 'lemon', 'mango', 'orange'}"
      ]
     },
     "execution_count": 2,
     "metadata": {},
     "output_type": "execute_result"
    }
   ],
   "source": [
    "fruits = {'banana', 'orange', 'mango', 'lemon'}\n",
    "fruits"
   ]
  },
  {
   "cell_type": "code",
   "execution_count": 3,
   "id": "5b66f7c2",
   "metadata": {},
   "outputs": [
    {
     "data": {
      "text/plain": [
       "set"
      ]
     },
     "execution_count": 3,
     "metadata": {},
     "output_type": "execute_result"
    }
   ],
   "source": [
    "type(fruits)"
   ]
  },
  {
   "cell_type": "code",
   "execution_count": 4,
   "id": "acd609b4",
   "metadata": {},
   "outputs": [
    {
     "data": {
      "text/plain": [
       "4"
      ]
     },
     "execution_count": 4,
     "metadata": {},
     "output_type": "execute_result"
    }
   ],
   "source": [
    "len(fruits)"
   ]
  },
  {
   "cell_type": "code",
   "execution_count": 6,
   "id": "eff8f3fd",
   "metadata": {},
   "outputs": [
    {
     "name": "stdout",
     "output_type": "stream",
     "text": [
      "True\n",
      "False\n"
     ]
    }
   ],
   "source": [
    "print('mango' in fruits)\n",
    "print('apple' in fruits)"
   ]
  },
  {
   "cell_type": "markdown",
   "id": "01617569",
   "metadata": {},
   "source": [
    "#### Adding Items to a Set"
   ]
  },
  {
   "cell_type": "code",
   "execution_count": 7,
   "id": "15352a70",
   "metadata": {},
   "outputs": [
    {
     "data": {
      "text/plain": [
       "{'banana', 'lemon', 'lime', 'mango', 'orange'}"
      ]
     },
     "execution_count": 7,
     "metadata": {},
     "output_type": "execute_result"
    }
   ],
   "source": [
    "fruits = {'banana', 'orange', 'mango', 'lemon'}\n",
    "\n",
    "fruits.add('lime')\n",
    "fruits"
   ]
  },
  {
   "cell_type": "code",
   "execution_count": 8,
   "id": "92f08205",
   "metadata": {},
   "outputs": [
    {
     "data": {
      "text/plain": [
       "{'banana',\n",
       " 'cabbage',\n",
       " 'carrot',\n",
       " 'lemon',\n",
       " 'mango',\n",
       " 'onion',\n",
       " 'orange',\n",
       " 'potato',\n",
       " 'tomato'}"
      ]
     },
     "execution_count": 8,
     "metadata": {},
     "output_type": "execute_result"
    }
   ],
   "source": [
    "fruits = {'banana', 'orange', 'mango', 'lemon'}\n",
    "vegetables = ('tomato', 'potato', 'cabbage','onion', 'carrot')\n",
    "\n",
    "fruits.update(vegetables)\n",
    "fruits"
   ]
  },
  {
   "cell_type": "markdown",
   "id": "05b5b97c",
   "metadata": {},
   "source": [
    "#### Removing Items from a Set"
   ]
  },
  {
   "cell_type": "code",
   "execution_count": 9,
   "id": "0a95acf0",
   "metadata": {},
   "outputs": [
    {
     "data": {
      "text/plain": [
       "'banana'"
      ]
     },
     "execution_count": 9,
     "metadata": {},
     "output_type": "execute_result"
    }
   ],
   "source": [
    "fruits = {'banana', 'orange', 'mango', 'lemon'}\n",
    "\n",
    "fruits.pop()"
   ]
  },
  {
   "cell_type": "code",
   "execution_count": 10,
   "id": "d156ba52",
   "metadata": {},
   "outputs": [
    {
     "data": {
      "text/plain": [
       "'banana'"
      ]
     },
     "execution_count": 10,
     "metadata": {},
     "output_type": "execute_result"
    }
   ],
   "source": [
    "fruits = {'banana', 'orange', 'mango', 'lemon'}\n",
    "\n",
    "removed_fruit = fruits.pop()\n",
    "removed_fruit"
   ]
  },
  {
   "cell_type": "markdown",
   "id": "77a7b6c6",
   "metadata": {},
   "source": [
    "#### Clearing Items in a Set"
   ]
  },
  {
   "cell_type": "code",
   "execution_count": 11,
   "id": "6bc4c072",
   "metadata": {},
   "outputs": [
    {
     "data": {
      "text/plain": [
       "set()"
      ]
     },
     "execution_count": 11,
     "metadata": {},
     "output_type": "execute_result"
    }
   ],
   "source": [
    "fruits = {'banana', 'orange', 'mango', 'lemon'}\n",
    "\n",
    "fruits.clear()\n",
    "fruits"
   ]
  },
  {
   "cell_type": "markdown",
   "id": "32fe42b8",
   "metadata": {},
   "source": [
    "#### Deleting a Set"
   ]
  },
  {
   "cell_type": "code",
   "execution_count": 12,
   "id": "57274f4c",
   "metadata": {},
   "outputs": [],
   "source": [
    "fruits = {'banana', 'orange', 'mango', 'lemon'}\n",
    "\n",
    "del fruits"
   ]
  },
  {
   "cell_type": "code",
   "execution_count": 13,
   "id": "e182aaab",
   "metadata": {},
   "outputs": [
    {
     "ename": "NameError",
     "evalue": "name 'fruits' is not defined",
     "output_type": "error",
     "traceback": [
      "\u001b[1;31m---------------------------------------------------------------------------\u001b[0m",
      "\u001b[1;31mNameError\u001b[0m                                 Traceback (most recent call last)",
      "Cell \u001b[1;32mIn[13], line 1\u001b[0m\n\u001b[1;32m----> 1\u001b[0m \u001b[43mfruits\u001b[49m\n",
      "\u001b[1;31mNameError\u001b[0m: name 'fruits' is not defined"
     ]
    }
   ],
   "source": [
    "fruits"
   ]
  },
  {
   "cell_type": "markdown",
   "id": "17606aea",
   "metadata": {},
   "source": [
    "#### Converting List to Set"
   ]
  },
  {
   "cell_type": "code",
   "execution_count": 14,
   "id": "3efbe0c1",
   "metadata": {},
   "outputs": [
    {
     "data": {
      "text/plain": [
       "{'banana', 'lemon', 'mango', 'orange'}"
      ]
     },
     "execution_count": 14,
     "metadata": {},
     "output_type": "execute_result"
    }
   ],
   "source": [
    "# list\n",
    "fruits = ['banana', 'orange', 'mango', 'lemon','orange', 'banana']\n",
    "\n",
    "fruits = set(fruits)\n",
    "fruits"
   ]
  },
  {
   "cell_type": "code",
   "execution_count": 15,
   "id": "0b01b7dc",
   "metadata": {},
   "outputs": [
    {
     "data": {
      "text/plain": [
       "set"
      ]
     },
     "execution_count": 15,
     "metadata": {},
     "output_type": "execute_result"
    }
   ],
   "source": [
    "type(fruits)"
   ]
  },
  {
   "cell_type": "markdown",
   "id": "fc0adda6",
   "metadata": {},
   "source": [
    "#### Joining Sets"
   ]
  },
  {
   "cell_type": "code",
   "execution_count": 17,
   "id": "b59c3df9",
   "metadata": {},
   "outputs": [
    {
     "data": {
      "text/plain": [
       "{'banana',\n",
       " 'cabbage',\n",
       " 'carrot',\n",
       " 'lemon',\n",
       " 'mango',\n",
       " 'onion',\n",
       " 'orange',\n",
       " 'potato',\n",
       " 'tomato'}"
      ]
     },
     "execution_count": 17,
     "metadata": {},
     "output_type": "execute_result"
    }
   ],
   "source": [
    "fruits = {'banana', 'orange', 'mango', 'lemon'}\n",
    "vegetables = {'tomato', 'potato', 'cabbage','onion', 'carrot'}\n",
    "\n",
    "fruits.union(vegetables)"
   ]
  },
  {
   "cell_type": "code",
   "execution_count": 18,
   "id": "43c215bd",
   "metadata": {},
   "outputs": [
    {
     "data": {
      "text/plain": [
       "set()"
      ]
     },
     "execution_count": 18,
     "metadata": {},
     "output_type": "execute_result"
    }
   ],
   "source": [
    "fruits.intersection(vegetables)"
   ]
  },
  {
   "cell_type": "code",
   "execution_count": 21,
   "id": "a6ba1597",
   "metadata": {},
   "outputs": [
    {
     "data": {
      "text/plain": [
       "{'banana',\n",
       " 'cabbage',\n",
       " 'carrot',\n",
       " 'lemon',\n",
       " 'mango',\n",
       " 'onion',\n",
       " 'orange',\n",
       " 'potato',\n",
       " 'tomato'}"
      ]
     },
     "execution_count": 21,
     "metadata": {},
     "output_type": "execute_result"
    }
   ],
   "source": [
    "fruits = {'banana', 'orange', 'mango', 'lemon'}\n",
    "vegetables = {'tomato', 'potato', 'cabbage','onion', 'carrot'}\n",
    "\n",
    "fruits.update(vegetables)\n",
    "fruits"
   ]
  },
  {
   "cell_type": "code",
   "execution_count": 22,
   "id": "a1c6fc46",
   "metadata": {},
   "outputs": [
    {
     "data": {
      "text/plain": [
       "{0, 2, 4, 6, 8, 10}"
      ]
     },
     "execution_count": 22,
     "metadata": {},
     "output_type": "execute_result"
    }
   ],
   "source": [
    "whole_numbers = {0, 1, 2, 3, 4, 5, 6, 7, 8, 9, 10}\n",
    "even_numbers = {0, 2, 4, 6, 8, 10}\n",
    "\n",
    "whole_numbers.intersection(even_numbers)"
   ]
  },
  {
   "cell_type": "markdown",
   "id": "3b1fceb2",
   "metadata": {},
   "source": [
    "#### Checking Subset and Super Set"
   ]
  },
  {
   "cell_type": "code",
   "execution_count": 23,
   "id": "a8ba9d96",
   "metadata": {},
   "outputs": [
    {
     "data": {
      "text/plain": [
       "False"
      ]
     },
     "execution_count": 23,
     "metadata": {},
     "output_type": "execute_result"
    }
   ],
   "source": [
    "whole_numbers = {0, 1, 2, 3, 4, 5, 6, 7, 8, 9, 10}\n",
    "even_numbers = {0, 2, 4, 6, 8, 10}\n",
    "\n",
    "whole_numbers.issubset(even_numbers)"
   ]
  },
  {
   "cell_type": "code",
   "execution_count": 24,
   "id": "4c1a0344",
   "metadata": {},
   "outputs": [
    {
     "data": {
      "text/plain": [
       "True"
      ]
     },
     "execution_count": 24,
     "metadata": {},
     "output_type": "execute_result"
    }
   ],
   "source": [
    "whole_numbers.issuperset(even_numbers)"
   ]
  },
  {
   "cell_type": "markdown",
   "id": "976071b8",
   "metadata": {},
   "source": [
    "#### Checking the Difference Between Two Sets"
   ]
  },
  {
   "cell_type": "code",
   "execution_count": 25,
   "id": "a6964c30",
   "metadata": {},
   "outputs": [
    {
     "data": {
      "text/plain": [
       "{1, 3, 5, 7, 9}"
      ]
     },
     "execution_count": 25,
     "metadata": {},
     "output_type": "execute_result"
    }
   ],
   "source": [
    "whole_numbers = {0, 1, 2, 3, 4, 5, 6, 7, 8, 9, 10}\n",
    "even_numbers = {0, 2, 4, 6, 8, 10}\n",
    "\n",
    "whole_numbers.difference(even_numbers)"
   ]
  },
  {
   "cell_type": "markdown",
   "id": "191f83f0",
   "metadata": {},
   "source": [
    "#### Finding Symmetric Difference Between Two Sets"
   ]
  },
  {
   "cell_type": "code",
   "execution_count": 26,
   "id": "4b55254e",
   "metadata": {},
   "outputs": [
    {
     "data": {
      "text/plain": [
       "{0, 6, 7, 8, 9, 10}"
      ]
     },
     "execution_count": 26,
     "metadata": {},
     "output_type": "execute_result"
    }
   ],
   "source": [
    "whole_numbers = {0, 1, 2, 3, 4, 5, 6, 7, 8, 9, 10}\n",
    "some_numbers = {1, 2, 3, 4, 5}\n",
    "\n",
    "whole_numbers.symmetric_difference(some_numbers)"
   ]
  },
  {
   "cell_type": "markdown",
   "id": "c66aa073",
   "metadata": {},
   "source": [
    "#### Joining Sets"
   ]
  },
  {
   "cell_type": "code",
   "execution_count": 27,
   "id": "a9662570",
   "metadata": {},
   "outputs": [
    {
     "data": {
      "text/plain": [
       "True"
      ]
     },
     "execution_count": 27,
     "metadata": {},
     "output_type": "execute_result"
    }
   ],
   "source": [
    "even_numbers = {0, 2, 4 ,6, 8}\n",
    "odd_numbers = {1, 3, 5, 7, 9}\n",
    "\n",
    "even_numbers.isdisjoint(odd_numbers)"
   ]
  },
  {
   "cell_type": "markdown",
   "id": "1a1f5be2",
   "metadata": {},
   "source": [
    "#### Exercises"
   ]
  },
  {
   "cell_type": "code",
   "execution_count": null,
   "id": "28e95d16",
   "metadata": {},
   "outputs": [],
   "source": []
  }
 ],
 "metadata": {
  "kernelspec": {
   "display_name": ".venv (3.10.18)",
   "language": "python",
   "name": "python3"
  },
  "language_info": {
   "codemirror_mode": {
    "name": "ipython",
    "version": 3
   },
   "file_extension": ".py",
   "mimetype": "text/x-python",
   "name": "python",
   "nbconvert_exporter": "python",
   "pygments_lexer": "ipython3",
   "version": "3.10.18"
  }
 },
 "nbformat": 4,
 "nbformat_minor": 5
}
