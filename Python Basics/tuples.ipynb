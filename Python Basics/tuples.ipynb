{
 "cells": [
  {
   "cell_type": "markdown",
   "id": "4f78e148",
   "metadata": {},
   "source": [
    "## Tuples"
   ]
  },
  {
   "cell_type": "code",
   "execution_count": null,
   "id": "5cd62110",
   "metadata": {},
   "outputs": [
    {
     "name": "stdout",
     "output_type": "stream",
     "text": [
      "()\n",
      "<class 'tuple'>\n"
     ]
    }
   ],
   "source": [
    "empty_tuple = ()\n",
    "\n",
    "print(empty_tuple)\n",
    "print(type(empty_tuple))"
   ]
  },
  {
   "cell_type": "code",
   "execution_count": 5,
   "id": "bd51c34d",
   "metadata": {},
   "outputs": [
    {
     "name": "stdout",
     "output_type": "stream",
     "text": [
      "()\n",
      "<class 'tuple'>\n"
     ]
    }
   ],
   "source": [
    "empty_tuple = tuple()\n",
    "\n",
    "print(empty_tuple)\n",
    "print(type(empty_tuple))"
   ]
  },
  {
   "cell_type": "code",
   "execution_count": 7,
   "id": "d7c11c90",
   "metadata": {},
   "outputs": [
    {
     "name": "stdout",
     "output_type": "stream",
     "text": [
      "('banana', 'orange', 'mango', 'lemon')\n",
      "<class 'tuple'>\n"
     ]
    }
   ],
   "source": [
    "fruits = ('banana', 'orange', 'mango', 'lemon')\n",
    "\n",
    "print(fruits)\n",
    "print(type(fruits))"
   ]
  },
  {
   "cell_type": "code",
   "execution_count": 8,
   "id": "91899d55",
   "metadata": {},
   "outputs": [
    {
     "data": {
      "text/plain": [
       "4"
      ]
     },
     "execution_count": 8,
     "metadata": {},
     "output_type": "execute_result"
    }
   ],
   "source": [
    "len(fruits)"
   ]
  },
  {
   "cell_type": "markdown",
   "id": "ff929ab4",
   "metadata": {},
   "source": [
    "#### Accessing Tuple Items"
   ]
  },
  {
   "cell_type": "code",
   "execution_count": 10,
   "id": "e658c316",
   "metadata": {},
   "outputs": [
    {
     "name": "stdout",
     "output_type": "stream",
     "text": [
      "First Fruit:  banana\n",
      "Second Fruit:  orange\n",
      "Last Fruit lemon\n"
     ]
    }
   ],
   "source": [
    "fruits = ('banana', 'orange', 'mango', 'lemon')\n",
    "\n",
    "first_fruit = fruits[0]\n",
    "second_fruit = fruits[1]\n",
    "\n",
    "last_index = len(fruits) - 1\n",
    "last_fruit = fruits[last_index]\n",
    "\n",
    "print('First Fruit: ', first_fruit)\n",
    "print('Second Fruit: ', second_fruit)\n",
    "print('Last Fruit', last_fruit)\n"
   ]
  },
  {
   "cell_type": "markdown",
   "id": "e8a023c5",
   "metadata": {},
   "source": [
    "- `Negative indexing`"
   ]
  },
  {
   "cell_type": "code",
   "execution_count": 12,
   "id": "9e61ef94",
   "metadata": {},
   "outputs": [
    {
     "name": "stdout",
     "output_type": "stream",
     "text": [
      "First Fruit:  banana\n",
      "Second Fruit:  orange\n",
      "Last Fruit lemon\n"
     ]
    }
   ],
   "source": [
    "fruits = ('banana', 'orange', 'mango', 'lemon')\n",
    "\n",
    "print('First Fruit: ', fruits[-4])\n",
    "print('Second Fruit: ', fruits[-3])\n",
    "print('Last Fruit', fruits[-1])"
   ]
  },
  {
   "cell_type": "markdown",
   "id": "0ec1e27e",
   "metadata": {},
   "source": [
    "#### Slicing tuples"
   ]
  },
  {
   "cell_type": "code",
   "execution_count": 17,
   "id": "72c5d823",
   "metadata": {},
   "outputs": [
    {
     "name": "stdout",
     "output_type": "stream",
     "text": [
      "All Fruits:  ('banana', 'orange', 'mango', 'lemon')\n",
      "Orange And Mango:  ('orange', 'mango')\n",
      "('orange', 'mango', 'lemon')\n"
     ]
    }
   ],
   "source": [
    "fruits = ('banana', 'orange', 'mango', 'lemon')\n",
    "\n",
    "all_fruits = fruits[:]\n",
    "print('All Fruits: ', all_fruits)\n",
    "\n",
    "orange_mango = fruits[1:3]\n",
    "print('Orange And Mango: ', orange_mango)\n",
    "\n",
    "orange_to_the_rest = fruits[1:]\n",
    "print(orange_to_the_rest)"
   ]
  },
  {
   "cell_type": "markdown",
   "id": "c3d1ee0a",
   "metadata": {},
   "source": [
    "#### Changing Tuples to Lists"
   ]
  },
  {
   "cell_type": "code",
   "execution_count": 18,
   "id": "4c491ec8",
   "metadata": {},
   "outputs": [
    {
     "name": "stdout",
     "output_type": "stream",
     "text": [
      "['banana', 'orange', 'mango', 'lemon']\n",
      "<class 'list'>\n"
     ]
    }
   ],
   "source": [
    "fruits = ('banana', 'orange', 'mango', 'lemon')\n",
    "\n",
    "fruits = list(fruits)\n",
    "print(fruits)\n",
    "print(type(fruits))"
   ]
  },
  {
   "cell_type": "code",
   "execution_count": 19,
   "id": "19f1d947",
   "metadata": {},
   "outputs": [
    {
     "name": "stdout",
     "output_type": "stream",
     "text": [
      "('apple', 'orange', 'mango', 'lemon')\n",
      "<class 'tuple'>\n"
     ]
    }
   ],
   "source": [
    "fruits[0] = 'apple'\n",
    "fruits = tuple(fruits)\n",
    "\n",
    "print(fruits)\n",
    "print(type(fruits))"
   ]
  },
  {
   "cell_type": "markdown",
   "id": "c85245a3",
   "metadata": {},
   "source": [
    "#### Checking an Item in a Tuple"
   ]
  },
  {
   "cell_type": "code",
   "execution_count": 21,
   "id": "9a2d8e38",
   "metadata": {},
   "outputs": [
    {
     "name": "stdout",
     "output_type": "stream",
     "text": [
      "True\n",
      "False\n"
     ]
    }
   ],
   "source": [
    "fruits = ('banana', 'orange', 'mango', 'lemon')\n",
    "\n",
    "print('banana' in fruits)\n",
    "print('apple' in fruits)"
   ]
  },
  {
   "cell_type": "code",
   "execution_count": 22,
   "id": "0218c745",
   "metadata": {},
   "outputs": [
    {
     "ename": "TypeError",
     "evalue": "'tuple' object does not support item assignment",
     "output_type": "error",
     "traceback": [
      "\u001b[1;31m---------------------------------------------------------------------------\u001b[0m",
      "\u001b[1;31mTypeError\u001b[0m                                 Traceback (most recent call last)",
      "Cell \u001b[1;32mIn[22], line 1\u001b[0m\n\u001b[1;32m----> 1\u001b[0m \u001b[43mfruits\u001b[49m\u001b[43m[\u001b[49m\u001b[38;5;241;43m0\u001b[39;49m\u001b[43m]\u001b[49m \u001b[38;5;241m=\u001b[39m \u001b[38;5;124m'\u001b[39m\u001b[38;5;124mapple\u001b[39m\u001b[38;5;124m'\u001b[39m\n",
      "\u001b[1;31mTypeError\u001b[0m: 'tuple' object does not support item assignment"
     ]
    }
   ],
   "source": [
    "fruits[0] = 'apple'"
   ]
  },
  {
   "cell_type": "markdown",
   "id": "204745c5",
   "metadata": {},
   "source": [
    "#### Joining Tuples"
   ]
  },
  {
   "cell_type": "code",
   "execution_count": 23,
   "id": "0008fb37",
   "metadata": {},
   "outputs": [
    {
     "data": {
      "text/plain": [
       "('banana',\n",
       " 'orange',\n",
       " 'mango',\n",
       " 'lemon',\n",
       " 'Tomato',\n",
       " 'Potato',\n",
       " 'Cabbage',\n",
       " 'Onion',\n",
       " 'Carrot')"
      ]
     },
     "execution_count": 23,
     "metadata": {},
     "output_type": "execute_result"
    }
   ],
   "source": [
    "fruits = ('banana', 'orange', 'mango', 'lemon')\n",
    "vegetables = ('Tomato', 'Potato', 'Cabbage','Onion', 'Carrot')\n",
    "\n",
    "fruits_and_vegetables = fruits + vegetables\n",
    "fruits_and_vegetables"
   ]
  },
  {
   "cell_type": "markdown",
   "id": "a480994c",
   "metadata": {},
   "source": [
    "#### Deleting Tuples"
   ]
  },
  {
   "cell_type": "code",
   "execution_count": 26,
   "id": "73dee7ec",
   "metadata": {},
   "outputs": [],
   "source": [
    "fruits = ('banana', 'orange', 'mango', 'lemon')\n",
    "\n",
    "del fruits"
   ]
  },
  {
   "cell_type": "code",
   "execution_count": 27,
   "id": "c9d3a1f6",
   "metadata": {},
   "outputs": [
    {
     "ename": "NameError",
     "evalue": "name 'fruits' is not defined",
     "output_type": "error",
     "traceback": [
      "\u001b[1;31m---------------------------------------------------------------------------\u001b[0m",
      "\u001b[1;31mNameError\u001b[0m                                 Traceback (most recent call last)",
      "Cell \u001b[1;32mIn[27], line 1\u001b[0m\n\u001b[1;32m----> 1\u001b[0m \u001b[43mfruits\u001b[49m\n",
      "\u001b[1;31mNameError\u001b[0m: name 'fruits' is not defined"
     ]
    }
   ],
   "source": [
    "fruits"
   ]
  },
  {
   "cell_type": "code",
   "execution_count": null,
   "id": "895f2d22",
   "metadata": {},
   "outputs": [],
   "source": []
  }
 ],
 "metadata": {
  "kernelspec": {
   "display_name": ".venv (3.10.18)",
   "language": "python",
   "name": "python3"
  },
  "language_info": {
   "codemirror_mode": {
    "name": "ipython",
    "version": 3
   },
   "file_extension": ".py",
   "mimetype": "text/x-python",
   "name": "python",
   "nbconvert_exporter": "python",
   "pygments_lexer": "ipython3",
   "version": "3.10.18"
  }
 },
 "nbformat": 4,
 "nbformat_minor": 5
}
