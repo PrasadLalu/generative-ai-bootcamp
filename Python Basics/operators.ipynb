{
 "cells": [
  {
   "cell_type": "markdown",
   "id": "2a9ff566",
   "metadata": {},
   "source": [
    "### Python Operators"
   ]
  },
  {
   "cell_type": "markdown",
   "id": "c06618b3",
   "metadata": {},
   "source": [
    "##### Arithmetic Operators:\n",
    "- Addition(+): a + b\n",
    "- Subtraction(-): a - b\n",
    "- Multiplication(*): a * b\n",
    "- Division(/): a / b\n",
    "- Modulus(%): a % b\n",
    "- Floor division(//): a // b\n",
    "- Exponentiation(**): a ** b\n"
   ]
  },
  {
   "cell_type": "markdown",
   "id": "2a6fa1aa",
   "metadata": {},
   "source": [
    "- `Integers`"
   ]
  },
  {
   "cell_type": "code",
   "execution_count": 1,
   "id": "1dc22ea3",
   "metadata": {},
   "outputs": [
    {
     "name": "stdout",
     "output_type": "stream",
     "text": [
      "Addition:  3\n",
      "Subtraction:  1\n",
      "Multiplication:  6\n",
      "Division:  2.0\n",
      "Division:  2.0\n",
      "Division:  3.5\n",
      "Division without the remainder:  3\n",
      "Division without the remainder:  2\n",
      "Modulus:  1\n",
      "Exponentiation:  8\n"
     ]
    }
   ],
   "source": [
    "print('Addition: ', 1+2)\n",
    "print('Subtraction: ', 2-1)\n",
    "print('Multiplication: ', 2 * 3)\n",
    "print ('Division: ', 4 / 2)\n",
    "print ('Division: ', 6 / 3)\n",
    "print ('Division: ', 7 / 2)\n",
    "print('Division without the remainder: ', 7 // 2)\n",
    "print('Division without the remainder: ', 7 // 3)\n",
    "print('Modulus: ', 3 % 2) \n",
    "print('Exponentiation: ', 2 ** 3)"
   ]
  },
  {
   "cell_type": "markdown",
   "id": "0ae8df67",
   "metadata": {},
   "source": [
    "- `Floats`"
   ]
  },
  {
   "cell_type": "code",
   "execution_count": 2,
   "id": "f873551a",
   "metadata": {},
   "outputs": [
    {
     "name": "stdout",
     "output_type": "stream",
     "text": [
      "PI:  3.14\n",
      "Gravity:  9.81\n"
     ]
    }
   ],
   "source": [
    "print('PI: ', 3.14)\n",
    "print('Gravity: ', 9.81)"
   ]
  },
  {
   "cell_type": "markdown",
   "id": "cc3f17ff",
   "metadata": {},
   "source": [
    "- `Complex numbers`"
   ]
  },
  {
   "cell_type": "code",
   "execution_count": 3,
   "id": "fef3c52b",
   "metadata": {},
   "outputs": [
    {
     "name": "stdout",
     "output_type": "stream",
     "text": [
      "(3+4j)\n"
     ]
    }
   ],
   "source": [
    "print((3+4j))"
   ]
  },
  {
   "cell_type": "code",
   "execution_count": 4,
   "id": "82da9eef",
   "metadata": {},
   "outputs": [
    {
     "name": "stdout",
     "output_type": "stream",
     "text": [
      "Multiplication of complex numbers:  (25+0j)\n"
     ]
    }
   ],
   "source": [
    "print('Multiplication of complex numbers: ', (3+4j) * (3-4j))"
   ]
  },
  {
   "cell_type": "code",
   "execution_count": 5,
   "id": "37c32535",
   "metadata": {},
   "outputs": [
    {
     "name": "stdout",
     "output_type": "stream",
     "text": [
      "Area of Circle:  314.0\n"
     ]
    }
   ],
   "source": [
    "# Calculate area of circle\n",
    "radius = 10\n",
    "area_of_circle = 3.14 * radius ** 2\n",
    "print('Area of Circle: ', area_of_circle)"
   ]
  },
  {
   "cell_type": "code",
   "execution_count": 6,
   "id": "054f1cbb",
   "metadata": {},
   "outputs": [
    {
     "name": "stdout",
     "output_type": "stream",
     "text": [
      "Area of Rectangle:  200\n"
     ]
    }
   ],
   "source": [
    "# Calculate area of rectangle\n",
    "length = 10\n",
    "width = 20\n",
    "area_of_rectangle = length * width\n",
    "print(f'Area of Rectangle: ', area_of_rectangle)"
   ]
  },
  {
   "cell_type": "code",
   "execution_count": 7,
   "id": "64006694",
   "metadata": {},
   "outputs": [
    {
     "name": "stdout",
     "output_type": "stream",
     "text": [
      "Weight:  735.75\n"
     ]
    }
   ],
   "source": [
    "# Calculate a weight of an object\n",
    "mass = 75\n",
    "gravity = 9.81\n",
    "weight = mass * gravity\n",
    "print('Weight: ', weight)"
   ]
  },
  {
   "cell_type": "code",
   "execution_count": 8,
   "id": "4dfba484",
   "metadata": {},
   "outputs": [
    {
     "name": "stdout",
     "output_type": "stream",
     "text": [
      "Density:  100.0\n"
     ]
    }
   ],
   "source": [
    "# Calculate the density of a liquid\n",
    "mass = 75\n",
    "volume = 0.75\n",
    "density = mass / volume\n",
    "print(f'Density: ', density)"
   ]
  },
  {
   "cell_type": "markdown",
   "id": "4921b192",
   "metadata": {},
   "source": [
    "- `Comparison Operators`"
   ]
  },
  {
   "cell_type": "code",
   "execution_count": 10,
   "id": "e1bd77f8",
   "metadata": {},
   "outputs": [
    {
     "name": "stdout",
     "output_type": "stream",
     "text": [
      "False\n",
      "True\n",
      "False\n",
      "True\n",
      "False\n",
      "True\n",
      "False\n"
     ]
    }
   ],
   "source": [
    "print(3 < 2)\n",
    "print(3 >= 2)\n",
    "print(3 == 2)\n",
    "print(3 != 2)\n",
    "print(len('mango') == len('avacado'))\n",
    "print(len('tomato') == len('potato'))\n",
    "print(len('python') > len('dragon'))"
   ]
  },
  {
   "cell_type": "code",
   "execution_count": 16,
   "id": "30de9c9e",
   "metadata": {},
   "outputs": [
    {
     "name": "stdout",
     "output_type": "stream",
     "text": [
      "1 is 1 True\n",
      "1 is not 2 True\n",
      "P in Python True\n",
      "h in Python True\n"
     ]
    },
    {
     "name": "stderr",
     "output_type": "stream",
     "text": [
      "<>:1: SyntaxWarning: \"is\" with a literal. Did you mean \"==\"?\n",
      "<>:2: SyntaxWarning: \"is not\" with a literal. Did you mean \"!=\"?\n",
      "<>:1: SyntaxWarning: \"is\" with a literal. Did you mean \"==\"?\n",
      "<>:2: SyntaxWarning: \"is not\" with a literal. Did you mean \"!=\"?\n",
      "C:\\Users\\LENOVO\\AppData\\Local\\Temp\\ipykernel_13648\\1784303542.py:1: SyntaxWarning: \"is\" with a literal. Did you mean \"==\"?\n",
      "  print('1 is 1', 1 is 1)\n",
      "C:\\Users\\LENOVO\\AppData\\Local\\Temp\\ipykernel_13648\\1784303542.py:2: SyntaxWarning: \"is not\" with a literal. Did you mean \"!=\"?\n",
      "  print('1 is not 2', 1 is not 2)\n"
     ]
    }
   ],
   "source": [
    "print('1 is 1', 1 is 1)\n",
    "print('1 is not 2', 1 is not 2)\n",
    "print('P in Python', 'P' in 'Python')\n",
    "print('h in Python', 'h' in 'Python')"
   ]
  },
  {
   "cell_type": "markdown",
   "id": "237369af",
   "metadata": {},
   "source": [
    "- `Logical Operators`"
   ]
  },
  {
   "cell_type": "code",
   "execution_count": 23,
   "id": "bdcd9d42",
   "metadata": {},
   "outputs": [
    {
     "name": "stdout",
     "output_type": "stream",
     "text": [
      "True\n",
      "True and True:  True\n",
      "False\n",
      "False\n",
      "True\n",
      "True\n",
      "False\n"
     ]
    }
   ],
   "source": [
    "print(3 > 2 and 4 > 3)\n",
    "print('True and True: ', True and True)\n",
    "print(not 3 > 2)\n",
    "print(not True)\n",
    "print(not False)\n",
    "print(not not True)\n",
    "print(not not False)"
   ]
  },
  {
   "cell_type": "code",
   "execution_count": null,
   "id": "3fe4687f",
   "metadata": {},
   "outputs": [
    {
     "name": "stdout",
     "output_type": "stream",
     "text": [
      "100.0\n"
     ]
    }
   ],
   "source": [
    "# Calculate the area of the triangle\n",
    "base = input('Enter base: ')\n",
    "height = input('Enter height: ')\n",
    "area_of_triangle = 0.5 * int(base) * int(height)\n",
    "print(f'The area of the triangle is ', area_of_triangle)"
   ]
  },
  {
   "cell_type": "code",
   "execution_count": 29,
   "id": "7fae1532",
   "metadata": {},
   "outputs": [
    {
     "name": "stdout",
     "output_type": "stream",
     "text": [
      "The perimeter of the triangle is  12\n"
     ]
    }
   ],
   "source": [
    "# Calculate perimeter of the triangle\n",
    "side_a = input('Enter side a: ')\n",
    "side_b = input('Enter side b: ')\n",
    "side_c = input('Enter side c: ')\n",
    "perimeter_of_triangle = int(side_a) + int(side_b) + int(side_c)\n",
    "print(f'The perimeter of the triangle is ', perimeter_of_triangle)"
   ]
  },
  {
   "cell_type": "code",
   "execution_count": null,
   "id": "ba80eeb4",
   "metadata": {},
   "outputs": [],
   "source": []
  }
 ],
 "metadata": {
  "kernelspec": {
   "display_name": ".venv (3.10.18)",
   "language": "python",
   "name": "python3"
  },
  "language_info": {
   "codemirror_mode": {
    "name": "ipython",
    "version": 3
   },
   "file_extension": ".py",
   "mimetype": "text/x-python",
   "name": "python",
   "nbconvert_exporter": "python",
   "pygments_lexer": "ipython3",
   "version": "3.10.18"
  }
 },
 "nbformat": 4,
 "nbformat_minor": 5
}
