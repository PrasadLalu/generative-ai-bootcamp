{
 "cells": [
  {
   "cell_type": "markdown",
   "id": "4cfad69b",
   "metadata": {},
   "source": [
    "## Dictionaries"
   ]
  },
  {
   "cell_type": "markdown",
   "id": "dba832ac",
   "metadata": {},
   "source": [
    "#### Creating a Dictionary"
   ]
  },
  {
   "cell_type": "code",
   "execution_count": 4,
   "id": "b1e1e965",
   "metadata": {},
   "outputs": [
    {
     "name": "stdout",
     "output_type": "stream",
     "text": [
      "{}\n",
      "<class 'dict'>\n"
     ]
    }
   ],
   "source": [
    "empty_dict = {}\n",
    "print(empty_dict)\n",
    "print(type(empty_dict))"
   ]
  },
  {
   "cell_type": "code",
   "execution_count": 5,
   "id": "9b24f815",
   "metadata": {},
   "outputs": [
    {
     "name": "stdout",
     "output_type": "stream",
     "text": [
      "{}\n",
      "<class 'dict'>\n"
     ]
    }
   ],
   "source": [
    "empty_dict = dict()\n",
    "\n",
    "print(empty_dict)\n",
    "print(type(empty_dict))"
   ]
  },
  {
   "cell_type": "code",
   "execution_count": 6,
   "id": "1171c0d9",
   "metadata": {},
   "outputs": [
    {
     "name": "stdout",
     "output_type": "stream",
     "text": [
      "{'first_name': 'John', 'last_name': 'Doe', 'age': 30, 'city': 'Bengaluru', 'is_married': False, 'skills': ['Javascript', 'Node', 'React', 'Python', 'MongoDB', 'Postgres', 'AWS'], 'address': {'street': '2nd Main Road', 'pincode': 560017}}\n"
     ]
    }
   ],
   "source": [
    "person = {\n",
    "    'first_name': 'John',\n",
    "    'last_name': 'Doe',\n",
    "    'age': 30,\n",
    "    'city': 'Bengaluru',\n",
    "    'is_married': False,\n",
    "    'skills': ['Javascript', 'Node', 'React', 'Python', 'MongoDB', 'Postgres', 'AWS'],\n",
    "    'address': {\n",
    "        'street': '2nd Main Road',\n",
    "        'pincode': 560017,\n",
    "    }\n",
    "}\n",
    "print(person)"
   ]
  },
  {
   "cell_type": "code",
   "execution_count": 7,
   "id": "1fda9710",
   "metadata": {},
   "outputs": [
    {
     "data": {
      "text/plain": [
       "7"
      ]
     },
     "execution_count": 7,
     "metadata": {},
     "output_type": "execute_result"
    }
   ],
   "source": [
    "len(person)"
   ]
  },
  {
   "cell_type": "code",
   "execution_count": 9,
   "id": "37a160e4",
   "metadata": {},
   "outputs": [
    {
     "data": {
      "text/plain": [
       "dict_keys(['first_name', 'last_name', 'age', 'city', 'is_married', 'skills', 'address'])"
      ]
     },
     "execution_count": 9,
     "metadata": {},
     "output_type": "execute_result"
    }
   ],
   "source": [
    "person.keys()"
   ]
  },
  {
   "cell_type": "code",
   "execution_count": 10,
   "id": "e631f1f7",
   "metadata": {},
   "outputs": [
    {
     "data": {
      "text/plain": [
       "dict_values(['John', 'Doe', 30, 'Bengaluru', False, ['Javascript', 'Node', 'React', 'Python', 'MongoDB', 'Postgres', 'AWS'], {'street': '2nd Main Road', 'pincode': 560017}])"
      ]
     },
     "execution_count": 10,
     "metadata": {},
     "output_type": "execute_result"
    }
   ],
   "source": [
    "person.values()"
   ]
  },
  {
   "cell_type": "markdown",
   "id": "0d4bcb91",
   "metadata": {},
   "source": [
    "#### Accessing Dictionary Items"
   ]
  },
  {
   "cell_type": "code",
   "execution_count": 15,
   "id": "d71846c1",
   "metadata": {},
   "outputs": [
    {
     "name": "stdout",
     "output_type": "stream",
     "text": [
      "First Name John\n",
      "Age:  30\n",
      "City:  Bengaluru\n",
      "Skills:  ['Javascript', 'Node', 'React', 'Python', 'MongoDB', 'Postgres', 'AWS']\n"
     ]
    }
   ],
   "source": [
    "print('First Name', person['first_name'])\n",
    "print('Age: ', person['age'])\n",
    "print('City: ', person['city'])\n",
    "print('Skills: ', person['skills'])"
   ]
  },
  {
   "cell_type": "markdown",
   "id": "5a111c91",
   "metadata": {},
   "source": [
    "#### Adding Items to a Dictionary"
   ]
  },
  {
   "cell_type": "code",
   "execution_count": 19,
   "id": "36d2c2a0",
   "metadata": {},
   "outputs": [
    {
     "data": {
      "text/plain": [
       "{'first_name': 'John',\n",
       " 'last_name': 'Doe',\n",
       " 'age': 30,\n",
       " 'city': 'Bengaluru',\n",
       " 'is_married': False,\n",
       " 'skills': ['Javascript',\n",
       "  'Node',\n",
       "  'React',\n",
       "  'Python',\n",
       "  'MongoDB',\n",
       "  'Postgres',\n",
       "  'AWS'],\n",
       " 'address': {'street': '2nd Main Road', 'pincode': 560017}}"
      ]
     },
     "execution_count": 19,
     "metadata": {},
     "output_type": "execute_result"
    }
   ],
   "source": [
    "person"
   ]
  },
  {
   "cell_type": "code",
   "execution_count": 20,
   "id": "734bb539",
   "metadata": {},
   "outputs": [
    {
     "data": {
      "text/plain": [
       "{'first_name': 'John',\n",
       " 'last_name': 'Doe',\n",
       " 'age': 30,\n",
       " 'city': 'Bengaluru',\n",
       " 'is_married': False,\n",
       " 'skills': ['Javascript',\n",
       "  'Node',\n",
       "  'React',\n",
       "  'Python',\n",
       "  'MongoDB',\n",
       "  'Postgres',\n",
       "  'AWS',\n",
       "  'Gen AI'],\n",
       " 'address': {'street': '2nd Main Road', 'pincode': 560017},\n",
       " 'country': 'India',\n",
       " 'professional': 'Software Engineer'}"
      ]
     },
     "execution_count": 20,
     "metadata": {},
     "output_type": "execute_result"
    }
   ],
   "source": [
    "person['country'] = 'India'\n",
    "person['professional'] = 'Software Engineer'\n",
    "person['skills'].append('Gen AI')\n",
    "\n",
    "person"
   ]
  },
  {
   "cell_type": "markdown",
   "id": "0a4bf7b0",
   "metadata": {},
   "source": [
    "#### Modifying Items in a Dictionary"
   ]
  },
  {
   "cell_type": "code",
   "execution_count": 21,
   "id": "f083e7e7",
   "metadata": {},
   "outputs": [
    {
     "data": {
      "text/plain": [
       "{'first_name': 'Dayal',\n",
       " 'last_name': 'Arya',\n",
       " 'age': 28,\n",
       " 'city': 'Bengaluru',\n",
       " 'is_married': False,\n",
       " 'skills': ['Javascript',\n",
       "  'Node',\n",
       "  'React',\n",
       "  'Python',\n",
       "  'MongoDB',\n",
       "  'Postgres',\n",
       "  'AWS',\n",
       "  'Gen AI'],\n",
       " 'address': {'street': '2nd Main Road', 'pincode': 560017},\n",
       " 'country': 'India',\n",
       " 'professional': 'Software Engineer'}"
      ]
     },
     "execution_count": 21,
     "metadata": {},
     "output_type": "execute_result"
    }
   ],
   "source": [
    "person['age'] = 28\n",
    "person['first_name'] = 'Dayal'\n",
    "person['last_name'] = 'Arya'\n",
    "\n",
    "person"
   ]
  },
  {
   "cell_type": "markdown",
   "id": "a1d499a8",
   "metadata": {},
   "source": [
    "#### Checking Keys in a Dictionary"
   ]
  },
  {
   "cell_type": "code",
   "execution_count": 23,
   "id": "b983c265",
   "metadata": {},
   "outputs": [
    {
     "name": "stdout",
     "output_type": "stream",
     "text": [
      "True\n",
      "True\n",
      "False\n"
     ]
    }
   ],
   "source": [
    "print('city' in person)\n",
    "print('skills' in person)\n",
    "print('job' in person)"
   ]
  },
  {
   "cell_type": "markdown",
   "id": "51449c76",
   "metadata": {},
   "source": [
    "### Removing Key and Value Pairs from a Dictionary\n",
    "- `pop(key)`: removes the item with the specified key name:\n",
    "- `popitem()`: removes the last item\n",
    "- `del`: removes an item with specified key name"
   ]
  },
  {
   "cell_type": "code",
   "execution_count": 25,
   "id": "79ba55ac",
   "metadata": {},
   "outputs": [
    {
     "data": {
      "text/plain": [
       "'Bengaluru'"
      ]
     },
     "execution_count": 25,
     "metadata": {},
     "output_type": "execute_result"
    }
   ],
   "source": [
    "person.pop('city')"
   ]
  },
  {
   "cell_type": "code",
   "execution_count": 26,
   "id": "113ec63c",
   "metadata": {},
   "outputs": [
    {
     "data": {
      "text/plain": [
       "{'first_name': 'Dayal',\n",
       " 'last_name': 'Arya',\n",
       " 'age': 28,\n",
       " 'is_married': False,\n",
       " 'skills': ['Javascript',\n",
       "  'Node',\n",
       "  'React',\n",
       "  'Python',\n",
       "  'MongoDB',\n",
       "  'Postgres',\n",
       "  'AWS',\n",
       "  'Gen AI'],\n",
       " 'address': {'street': '2nd Main Road', 'pincode': 560017},\n",
       " 'country': 'India',\n",
       " 'professional': 'Software Engineer'}"
      ]
     },
     "execution_count": 26,
     "metadata": {},
     "output_type": "execute_result"
    }
   ],
   "source": [
    "person"
   ]
  },
  {
   "cell_type": "code",
   "execution_count": 27,
   "id": "30c2bd31",
   "metadata": {},
   "outputs": [
    {
     "data": {
      "text/plain": [
       "('professional', 'Software Engineer')"
      ]
     },
     "execution_count": 27,
     "metadata": {},
     "output_type": "execute_result"
    }
   ],
   "source": [
    "person.popitem()"
   ]
  },
  {
   "cell_type": "code",
   "execution_count": 28,
   "id": "c4ab9dc0",
   "metadata": {},
   "outputs": [
    {
     "data": {
      "text/plain": [
       "{'first_name': 'Dayal',\n",
       " 'last_name': 'Arya',\n",
       " 'age': 28,\n",
       " 'is_married': False,\n",
       " 'skills': ['Javascript',\n",
       "  'Node',\n",
       "  'React',\n",
       "  'Python',\n",
       "  'MongoDB',\n",
       "  'Postgres',\n",
       "  'AWS',\n",
       "  'Gen AI'],\n",
       " 'address': {'street': '2nd Main Road', 'pincode': 560017},\n",
       " 'country': 'India'}"
      ]
     },
     "execution_count": 28,
     "metadata": {},
     "output_type": "execute_result"
    }
   ],
   "source": [
    "person"
   ]
  },
  {
   "cell_type": "code",
   "execution_count": 29,
   "id": "f0fee98a",
   "metadata": {},
   "outputs": [],
   "source": [
    "del person['age']"
   ]
  },
  {
   "cell_type": "code",
   "execution_count": 30,
   "id": "f5a1b3d2",
   "metadata": {},
   "outputs": [
    {
     "data": {
      "text/plain": [
       "{'first_name': 'Dayal',\n",
       " 'last_name': 'Arya',\n",
       " 'is_married': False,\n",
       " 'skills': ['Javascript',\n",
       "  'Node',\n",
       "  'React',\n",
       "  'Python',\n",
       "  'MongoDB',\n",
       "  'Postgres',\n",
       "  'AWS',\n",
       "  'Gen AI'],\n",
       " 'address': {'street': '2nd Main Road', 'pincode': 560017},\n",
       " 'country': 'India'}"
      ]
     },
     "execution_count": 30,
     "metadata": {},
     "output_type": "execute_result"
    }
   ],
   "source": [
    "person"
   ]
  },
  {
   "cell_type": "markdown",
   "id": "eebf8fee",
   "metadata": {},
   "source": [
    "#### Changing Dictionary to a List of Items"
   ]
  },
  {
   "cell_type": "code",
   "execution_count": 33,
   "id": "8e958d97",
   "metadata": {},
   "outputs": [
    {
     "name": "stdout",
     "output_type": "stream",
     "text": [
      "Person as Dictionary: {'first_name': 'Dayal', 'last_name': 'Arya', 'is_married': False, 'skills': ['Javascript', 'Node', 'React', 'Python', 'MongoDB', 'Postgres', 'AWS', 'Gen AI'], 'address': {'street': '2nd Main Road', 'pincode': 560017}, 'country': 'India'}\n",
      "Person as List dict_items([('first_name', 'Dayal'), ('last_name', 'Arya'), ('is_married', False), ('skills', ['Javascript', 'Node', 'React', 'Python', 'MongoDB', 'Postgres', 'AWS', 'Gen AI']), ('address', {'street': '2nd Main Road', 'pincode': 560017}), ('country', 'India')])\n"
     ]
    }
   ],
   "source": [
    "print('Person as Dictionary:', person)\n",
    "\n",
    "print('Person as List', person.items())"
   ]
  },
  {
   "cell_type": "markdown",
   "id": "66ce6c39",
   "metadata": {},
   "source": [
    "#### Changing Dictionary to a List of Items"
   ]
  },
  {
   "cell_type": "code",
   "execution_count": 35,
   "id": "ba6ff9c1",
   "metadata": {},
   "outputs": [
    {
     "name": "stdout",
     "output_type": "stream",
     "text": [
      "Before:  {'first_name': 'John', 'last_name': 'Doe', 'city': 'Bengaluru', 'skills': ['Node.js', 'React.js']}\n",
      "After:  {}\n"
     ]
    }
   ],
   "source": [
    "user = {\n",
    "    'first_name': 'John',\n",
    "    'last_name': 'Doe',\n",
    "    'city': 'Bengaluru',\n",
    "    'skills': ['Node.js', 'React.js']\n",
    "}\n",
    "\n",
    "print('Before: ', user)\n",
    "\n",
    "user.clear()\n",
    "\n",
    "print('After: ', user)"
   ]
  },
  {
   "cell_type": "markdown",
   "id": "67856777",
   "metadata": {},
   "source": [
    "#### Deleting a Dictionary"
   ]
  },
  {
   "cell_type": "code",
   "execution_count": 36,
   "id": "9410dddc",
   "metadata": {},
   "outputs": [
    {
     "name": "stdout",
     "output_type": "stream",
     "text": [
      "Before:  {'first_name': 'John', 'last_name': 'Doe', 'city': 'Bengaluru', 'skills': ['Node.js', 'React.js']}\n"
     ]
    },
    {
     "ename": "NameError",
     "evalue": "name 'user' is not defined",
     "output_type": "error",
     "traceback": [
      "\u001b[1;31m---------------------------------------------------------------------------\u001b[0m",
      "\u001b[1;31mNameError\u001b[0m                                 Traceback (most recent call last)",
      "Cell \u001b[1;32mIn[36], line 12\u001b[0m\n\u001b[0;32m      8\u001b[0m \u001b[38;5;28mprint\u001b[39m(\u001b[38;5;124m'\u001b[39m\u001b[38;5;124mBefore: \u001b[39m\u001b[38;5;124m'\u001b[39m, user)\n\u001b[0;32m     10\u001b[0m \u001b[38;5;28;01mdel\u001b[39;00m user\n\u001b[1;32m---> 12\u001b[0m \u001b[38;5;28mprint\u001b[39m(\u001b[38;5;124m'\u001b[39m\u001b[38;5;124mAfter: \u001b[39m\u001b[38;5;124m'\u001b[39m, \u001b[43muser\u001b[49m)\n",
      "\u001b[1;31mNameError\u001b[0m: name 'user' is not defined"
     ]
    }
   ],
   "source": [
    "user = {\n",
    "    'first_name': 'John',\n",
    "    'last_name': 'Doe',\n",
    "    'city': 'Bengaluru',\n",
    "    'skills': ['Node.js', 'React.js']\n",
    "}\n",
    "\n",
    "print('Before: ', user)\n",
    "\n",
    "del user\n",
    "\n",
    "print('After: ', user)"
   ]
  },
  {
   "cell_type": "markdown",
   "id": "37d3f4f2",
   "metadata": {},
   "source": [
    "#### Copy a Dictionary"
   ]
  },
  {
   "cell_type": "code",
   "execution_count": 37,
   "id": "13aa4d7f",
   "metadata": {},
   "outputs": [
    {
     "name": "stdout",
     "output_type": "stream",
     "text": [
      "User:  {'first_name': 'John', 'last_name': 'Doe', 'city': 'Bengaluru', 'skills': ['Node.js', 'React.js']}\n",
      "User Copy {'first_name': 'John', 'last_name': 'Doe', 'city': 'Bengaluru', 'skills': ['Node.js', 'React.js']}\n"
     ]
    }
   ],
   "source": [
    "user = {\n",
    "    'first_name': 'John',\n",
    "    'last_name': 'Doe',\n",
    "    'city': 'Bengaluru',\n",
    "    'skills': ['Node.js', 'React.js']\n",
    "}\n",
    "\n",
    "user_copy = user.copy()\n",
    "\n",
    "print('User: ', user)\n",
    "print('User Copy', user_copy)"
   ]
  },
  {
   "cell_type": "markdown",
   "id": "33e39447",
   "metadata": {},
   "source": [
    "#### Getting Dictionary Values as a List"
   ]
  },
  {
   "cell_type": "code",
   "execution_count": 38,
   "id": "03faf177",
   "metadata": {},
   "outputs": [
    {
     "data": {
      "text/plain": [
       "dict_values(['John', 'Doe', 'Bengaluru', ['Node.js', 'React.js']])"
      ]
     },
     "execution_count": 38,
     "metadata": {},
     "output_type": "execute_result"
    }
   ],
   "source": [
    "user = {\n",
    "    'first_name': 'John',\n",
    "    'last_name': 'Doe',\n",
    "    'city': 'Bengaluru',\n",
    "    'skills': ['Node.js', 'React.js']\n",
    "}\n",
    "\n",
    "user.values()"
   ]
  },
  {
   "cell_type": "code",
   "execution_count": 39,
   "id": "7f9aefc7",
   "metadata": {},
   "outputs": [
    {
     "data": {
      "text/plain": [
       "dict_keys(['first_name', 'last_name', 'city', 'skills'])"
      ]
     },
     "execution_count": 39,
     "metadata": {},
     "output_type": "execute_result"
    }
   ],
   "source": [
    "user.keys()"
   ]
  },
  {
   "cell_type": "markdown",
   "id": "bb5f60d0",
   "metadata": {},
   "source": [
    "### Exercises:"
   ]
  },
  {
   "cell_type": "code",
   "execution_count": 40,
   "id": "21df7f66",
   "metadata": {},
   "outputs": [
    {
     "name": "stdout",
     "output_type": "stream",
     "text": [
      "{}\n"
     ]
    }
   ],
   "source": [
    "dog = dict()\n",
    "print(dog)"
   ]
  },
  {
   "cell_type": "code",
   "execution_count": 41,
   "id": "828ed538",
   "metadata": {},
   "outputs": [
    {
     "name": "stdout",
     "output_type": "stream",
     "text": [
      "{'name': 'Buddy', 'color': 'Brown', 'breed': 'Labrador Retriever', 'legs': 4, 'age': 3}\n"
     ]
    }
   ],
   "source": [
    "dog['name'] = 'Buddy'\n",
    "dog['color'] = 'Brown'\n",
    "dog['breed'] = 'Labrador Retriever'\n",
    "dog['legs'] = 4\n",
    "dog['age'] = 3\n",
    "\n",
    "print(dog)"
   ]
  },
  {
   "cell_type": "code",
   "execution_count": 48,
   "id": "bc068725",
   "metadata": {},
   "outputs": [
    {
     "data": {
      "text/plain": [
       "{'first_name': 'John',\n",
       " 'last_name': 'Doe',\n",
       " 'gender': 'Male',\n",
       " 'age': 30,\n",
       " 'marital_status': 'Unmarried',\n",
       " 'skills': ['Javascript',\n",
       "  'Node',\n",
       "  'React',\n",
       "  'Python',\n",
       "  'MongoDB',\n",
       "  'Postgres',\n",
       "  'AWS'],\n",
       " 'city': 'Bengaluru',\n",
       " 'country': 'India',\n",
       " 'address': {'street': '2nd Main Road', 'pincode': 560017}}"
      ]
     },
     "execution_count": 48,
     "metadata": {},
     "output_type": "execute_result"
    }
   ],
   "source": [
    "student = {\n",
    "    'first_name': 'John',\n",
    "    'last_name': 'Doe',\n",
    "    'gender': 'Male',\n",
    "    'age': 30,\n",
    "    'marital_status': 'Unmarried',\n",
    "    'skills': ['Javascript', 'Node', 'React', 'Python', 'MongoDB', 'Postgres', 'AWS'],\n",
    "    'city': 'Bengaluru',\n",
    "    'country': 'India',\n",
    "    'address': {\n",
    "        'street': '2nd Main Road',\n",
    "        'pincode': 560017,\n",
    "    }\n",
    "}\n",
    "\n",
    "student"
   ]
  },
  {
   "cell_type": "code",
   "execution_count": 49,
   "id": "0b679fc1",
   "metadata": {},
   "outputs": [
    {
     "data": {
      "text/plain": [
       "9"
      ]
     },
     "execution_count": 49,
     "metadata": {},
     "output_type": "execute_result"
    }
   ],
   "source": [
    "len(student)"
   ]
  },
  {
   "cell_type": "code",
   "execution_count": 50,
   "id": "45a701c4",
   "metadata": {},
   "outputs": [
    {
     "name": "stdout",
     "output_type": "stream",
     "text": [
      "['Javascript', 'Node', 'React', 'Python', 'MongoDB', 'Postgres', 'AWS']\n",
      "<class 'list'>\n"
     ]
    }
   ],
   "source": [
    "print(student['skills'])\n",
    "print(type(student['skills']))"
   ]
  },
  {
   "cell_type": "code",
   "execution_count": 51,
   "id": "e27fd7df",
   "metadata": {},
   "outputs": [
    {
     "data": {
      "text/plain": [
       "{'first_name': 'John',\n",
       " 'last_name': 'Doe',\n",
       " 'gender': 'Male',\n",
       " 'age': 30,\n",
       " 'marital_status': 'Unmarried',\n",
       " 'skills': ['Javascript',\n",
       "  'Node',\n",
       "  'React',\n",
       "  'Python',\n",
       "  'MongoDB',\n",
       "  'Postgres',\n",
       "  'AWS',\n",
       "  'Robotics'],\n",
       " 'city': 'Bengaluru',\n",
       " 'country': 'India',\n",
       " 'address': {'street': '2nd Main Road', 'pincode': 560017}}"
      ]
     },
     "execution_count": 51,
     "metadata": {},
     "output_type": "execute_result"
    }
   ],
   "source": [
    "student['skills'].append('Robotics')\n",
    "student"
   ]
  },
  {
   "cell_type": "code",
   "execution_count": 52,
   "id": "f052cb9c",
   "metadata": {},
   "outputs": [
    {
     "data": {
      "text/plain": [
       "dict_keys(['first_name', 'last_name', 'gender', 'age', 'marital_status', 'skills', 'city', 'country', 'address'])"
      ]
     },
     "execution_count": 52,
     "metadata": {},
     "output_type": "execute_result"
    }
   ],
   "source": [
    "student.keys()"
   ]
  },
  {
   "cell_type": "code",
   "execution_count": 53,
   "id": "a8f6ef9c",
   "metadata": {},
   "outputs": [
    {
     "data": {
      "text/plain": [
       "dict_values(['John', 'Doe', 'Male', 30, 'Unmarried', ['Javascript', 'Node', 'React', 'Python', 'MongoDB', 'Postgres', 'AWS', 'Robotics'], 'Bengaluru', 'India', {'street': '2nd Main Road', 'pincode': 560017}])"
      ]
     },
     "execution_count": 53,
     "metadata": {},
     "output_type": "execute_result"
    }
   ],
   "source": [
    "student.values()"
   ]
  },
  {
   "cell_type": "code",
   "execution_count": 54,
   "id": "68425e43",
   "metadata": {},
   "outputs": [
    {
     "data": {
      "text/plain": [
       "dict_items([('first_name', 'John'), ('last_name', 'Doe'), ('gender', 'Male'), ('age', 30), ('marital_status', 'Unmarried'), ('skills', ['Javascript', 'Node', 'React', 'Python', 'MongoDB', 'Postgres', 'AWS', 'Robotics']), ('city', 'Bengaluru'), ('country', 'India'), ('address', {'street': '2nd Main Road', 'pincode': 560017})])"
      ]
     },
     "execution_count": 54,
     "metadata": {},
     "output_type": "execute_result"
    }
   ],
   "source": [
    "student.items()"
   ]
  },
  {
   "cell_type": "code",
   "execution_count": 56,
   "id": "5fc4e037",
   "metadata": {},
   "outputs": [
    {
     "data": {
      "text/plain": [
       "'Unmarried'"
      ]
     },
     "execution_count": 56,
     "metadata": {},
     "output_type": "execute_result"
    }
   ],
   "source": [
    "student.pop('marital_status')"
   ]
  },
  {
   "cell_type": "code",
   "execution_count": 57,
   "id": "56da57fe",
   "metadata": {},
   "outputs": [
    {
     "data": {
      "text/plain": [
       "{'id': '1001', 'name': 'John Doe'}"
      ]
     },
     "execution_count": 57,
     "metadata": {},
     "output_type": "execute_result"
    }
   ],
   "source": [
    "employee = {\n",
    "    'id': '1001',\n",
    "    'name': 'John Doe'\n",
    "}\n",
    "employee"
   ]
  },
  {
   "cell_type": "code",
   "execution_count": 58,
   "id": "8ec070e7",
   "metadata": {},
   "outputs": [],
   "source": [
    "del employee"
   ]
  },
  {
   "cell_type": "code",
   "execution_count": 59,
   "id": "46e90835",
   "metadata": {},
   "outputs": [
    {
     "ename": "NameError",
     "evalue": "name 'employee' is not defined",
     "output_type": "error",
     "traceback": [
      "\u001b[1;31m---------------------------------------------------------------------------\u001b[0m",
      "\u001b[1;31mNameError\u001b[0m                                 Traceback (most recent call last)",
      "Cell \u001b[1;32mIn[59], line 1\u001b[0m\n\u001b[1;32m----> 1\u001b[0m \u001b[43memployee\u001b[49m\n",
      "\u001b[1;31mNameError\u001b[0m: name 'employee' is not defined"
     ]
    }
   ],
   "source": [
    "employee"
   ]
  },
  {
   "cell_type": "code",
   "execution_count": null,
   "id": "3394c21b",
   "metadata": {},
   "outputs": [],
   "source": []
  }
 ],
 "metadata": {
  "kernelspec": {
   "display_name": ".venv (3.10.18)",
   "language": "python",
   "name": "python3"
  },
  "language_info": {
   "codemirror_mode": {
    "name": "ipython",
    "version": 3
   },
   "file_extension": ".py",
   "mimetype": "text/x-python",
   "name": "python",
   "nbconvert_exporter": "python",
   "pygments_lexer": "ipython3",
   "version": "3.10.18"
  }
 },
 "nbformat": 4,
 "nbformat_minor": 5
}
