{
 "cells": [
  {
   "cell_type": "code",
   "execution_count": 81,
   "id": "7d3e1dbb",
   "metadata": {},
   "outputs": [
    {
     "data": {
      "text/plain": [
       "True"
      ]
     },
     "execution_count": 81,
     "metadata": {},
     "output_type": "execute_result"
    }
   ],
   "source": [
    "import os\n",
    "from dotenv import load_dotenv\n",
    "\n",
    "# Load environment varibles\n",
    "load_dotenv()"
   ]
  },
  {
   "cell_type": "code",
   "execution_count": 82,
   "id": "5235f775",
   "metadata": {},
   "outputs": [],
   "source": [
    "# Initialize llm model\n",
    "from euriai.langchain import create_chat_model\n",
    "\n",
    "\n",
    "llm_default = create_chat_model(\n",
    "    api_key = os.getenv(\"EURI_API_KEY\"),\n",
    "    model = \"gpt-4.1-nano\",\n",
    "    temperature = 0.2\n",
    ")"
   ]
  },
  {
   "cell_type": "code",
   "execution_count": 83,
   "id": "1197ef82",
   "metadata": {},
   "outputs": [
    {
     "name": "stdout",
     "output_type": "stream",
     "text": [
      "Artificial intelligence (AI) refers to the simulation of human intelligence processes by computer systems and machines. These processes include learning (acquiring information and rules for using it), reasoning (using rules to reach conclusions), problem-solving, understanding language, perception (such as recognizing images or speech), and decision-making. AI can be categorized into narrow AI, which is designed for specific tasks (like voice assistants or recommendation systems), and general AI, which would have the ability to perform any intellectual task a human can do. The goal of AI research is to create systems that can operate autonomously and adapt to new situations, enhancing various aspects of technology and daily life.\n"
     ]
    }
   ],
   "source": [
    "response = llm_default.invoke(\"What is artificial intelligence?\")\n",
    "print(response.content)"
   ]
  },
  {
   "cell_type": "code",
   "execution_count": 84,
   "id": "55de3ed6",
   "metadata": {},
   "outputs": [],
   "source": [
    "import ast, math\n",
    "from langchain_core.tools import tool\n",
    "from langchain_core.prompts import ChatPromptTemplate\n",
    "from langchain_core.output_parsers import StrOutputParser\n",
    "from langchain.agents import create_react_agent,AgentExecutor\n",
    "from langchain_core.runnables import RunnableLambda, RunnableWithMessageHistory\n",
    "from langchain.memory import ConversationBufferMemory, ConversationBufferWindowMemory\n",
    "from langchain_core.chat_history import InMemoryChatMessageHistory as ChatMessageHistory"
   ]
  },
  {
   "cell_type": "markdown",
   "id": "e886294d",
   "metadata": {},
   "source": [
    "#### Math Tool"
   ]
  },
  {
   "cell_type": "code",
   "execution_count": 85,
   "id": "b31b0503",
   "metadata": {},
   "outputs": [],
   "source": [
    "# Define math tool\n",
    "@tool(\"calculator\", return_direct=True)\n",
    "def calculator(expression: str) -> str:\n",
    "    \"\"\"Evaluate a numeric math expression . supprts + , -,*,/,**,parentheses and all kind of mathamatical functions\"\"\"\n",
    "    allowed_nodes =(\n",
    "        ast.Expression,\n",
    "        ast.UnaryOp,\n",
    "        ast.unaryop,\n",
    "        ast.BinOp,\n",
    "        ast.operator,\n",
    "        ast.Num,\n",
    "        ast.Load,\n",
    "        ast.pow,\n",
    "        ast.FunctionDef,\n",
    "        ast.Module,\n",
    "        ast.Expr,\n",
    "        ast.Call,\n",
    "        ast.Name,\n",
    "        ast.arguments,\n",
    "        ast.args,\n",
    "        ast.Constant\n",
    "    )\n",
    "    \n",
    "    allowed_names = {k:v for k,v in vars(math).items() if not k.startswith(\"_\")}\n",
    "    allowed_names.update({\"abs\": abs, \"round\": round,\"min\": min,\"max\": max})\n",
    "    node = ast.parse(expression, mode=\"eval\")\n",
    "    for n in ast.walk(node):\n",
    "        if not isinstance(n, allowed_nodes):\n",
    "            raise ValueError(f\"Expression contains invalid node {type(n)}\")\n",
    "        if isinstance(n, ast.Name) and n.id not in allowed_names:\n",
    "            raise ValueError(f\"Expression contains invalid name {n.id}\")\n",
    "    code = compile(node, \"<string>\", \"eval\")\n",
    "    return str(eval(code, {\"__builtins__\": {}}, allowed_names))"
   ]
  },
  {
   "cell_type": "code",
   "execution_count": 86,
   "id": "f2e50851",
   "metadata": {},
   "outputs": [],
   "source": [
    "chat_prompt_math = ChatPromptTemplate.from_messages([(\n",
    "    \"system\",\"you are a precise math assistant , you can use thse tools:\\n{tools}\\n\"\n",
    "    \"when you are going to use this tools follw these instruction exactly the same format:\\n\"\n",
    "    \"Questions :......\\nthought ...\\nAction by using one of the tools access that you have [{tool_names}]\\n \"\n",
    "    \"alwasy finish with final give me a numeric answer to the question\"),\n",
    "    (\"human\",\"questions: {input}\\n{agent_scratchpad}\")\n",
    "])"
   ]
  },
  {
   "cell_type": "code",
   "execution_count": 87,
   "metadata": {},
   "outputs": [
    {
     "data": {
      "text/plain": [
       "[StructuredTool(name='calculator', description='Evaluate a numeric math expression . supprts + , -,*,/,**,parentheses and all kind of mathamatical functions', args_schema=<class 'langchain_core.utils.pydantic.calculator'>, return_direct=True, func=<function calculator at 0x000001DEF5B64CC0>)]"
      ]
     },
     "execution_count": 87,
     "metadata": {},
     "output_type": "execute_result"
    }
   ],
   "source": [
    "tools_math = [calculator]\n",
    "tools_math"
   ]
  },
  {
   "cell_type": "code",
   "execution_count": 88,
   "metadata": {},
   "outputs": [],
   "source": [
    "agent_math = create_react_agent(\n",
    "    llm=llm_default,\n",
    "    prompt=chat_prompt_math,\n",
    "    tools=tools_math\n",
    ")"
   ]
  },
  {
   "cell_type": "code",
   "execution_count": 89,
   "metadata": {},
   "outputs": [],
   "source": [
    "memory_math = ConversationBufferMemory(\n",
    "    memory_key=\"chat_history\",\n",
    "    return_messages=True,\n",
    "    input_key=\"input\",\n",
    "    output_key=\"output\",\n",
    ")"
   ]
  },
  {
   "cell_type": "code",
   "execution_count": 65,
   "metadata": {},
   "outputs": [],
   "source": [
    "math_exector = AgentExecutor(\n",
    "    agent=agent_math,\n",
    "    tools=tools_math,\n",
    "    memory=memory_math,\n",
    "    verbose=True,\n",
    "    max_iterations=2,\n",
    "    handle_parsing_errors=(\n",
    "        \"you did not follow the instruction that i have given you to use the tools\"\n",
    "    ),\n",
    ")"
   ]
  },
  {
   "cell_type": "code",
   "execution_count": 90,
   "metadata": {},
   "outputs": [],
   "source": [
    "@tool(\"kb_search\", return_direct=True)\n",
    "def kb_search(query: str) -> str:\n",
    "    \"\"\"a mock function to search from a knowledge base\"\"\"\n",
    "    knowledge_base = {\n",
    "        \"what is the capital of france\": \"The capital of France is Paris.\",\n",
    "        \"who is the president of the united states\": \"The president of the United States is Joe Biden.\",\n",
    "        \"what is the largest mammal\": \"The largest mammal is the blue whale.\",\n",
    "    }\n",
    "    query = query.lower().strip(\"?\")\n",
    "    for key,answer in knowledge_base.items():\n",
    "        if key in query:\n",
    "            return answer\n",
    "    return \"I don't know the answer to that question.\""
   ]
  },
  {
   "cell_type": "code",
   "execution_count": 91,
   "metadata": {},
   "outputs": [
    {
     "data": {
      "text/plain": [
       "[StructuredTool(name='kb_search', description='a mock function to search from a knowledge base', args_schema=<class 'langchain_core.utils.pydantic.kb_search'>, return_direct=True, func=<function kb_search at 0x000001DEF5BE51C0>)]"
      ]
     },
     "execution_count": 91,
     "metadata": {},
     "output_type": "execute_result"
    }
   ],
   "source": [
    "tools_kb = [kb_search]\n",
    "tools_kb"
   ]
  },
  {
   "cell_type": "code",
   "execution_count": null,
   "id": "d4e530a3",
   "metadata": {},
   "outputs": [],
   "source": [
    "react_prompt_kb = ChatPromptTemplate.from_messages([\n",
    "    (\"system\",\"you are a helpful assistant that can answer question based on your knowledge base and you can use the following tools:\\n{tools}\\n\"\n",
    "    \"when you are going to use this tools follw these instruction exactly the same format:\\n\"\n",
    "    \"Questions :......\\nthought ...\\nAction by using one of the tools access that you have [{tool_names}]\\n \"\n",
    "    \"alwasy finish with final answer to the question that you are able to search from my knowledge base\"),\n",
    "    (\"human\",\"questions: {input}\\n{agent_scratchpad}\")\n",
    "])"
   ]
  },
  {
   "cell_type": "code",
   "execution_count": 93,
   "id": "955e99e3",
   "metadata": {},
   "outputs": [],
   "source": [
    "agent_kb = create_react_agent(\n",
    "    llm=llm_default,\n",
    "    prompt=react_prompt_kb,\n",
    "    tools=tools_kb\n",
    ")"
   ]
  },
  {
   "cell_type": "code",
   "execution_count": 94,
   "id": "a2e0c41a",
   "metadata": {},
   "outputs": [],
   "source": [
    "mem_kb = ConversationBufferWindowMemory(\n",
    "    memory_key=\"chat_history\",\n",
    "    return_messages=True,\n",
    "    input_key=\"input\",\n",
    "    output_key=\"output\",\n",
    "    k=5\n",
    ")"
   ]
  },
  {
   "cell_type": "code",
   "execution_count": 95,
   "id": "3abe8f0a",
   "metadata": {},
   "outputs": [],
   "source": [
    "kb_executor = AgentExecutor(\n",
    "    agent=agent_kb,\n",
    "    tools=tools_kb,\n",
    "    memory=mem_kb,\n",
    "    verbose=True,\n",
    "    max_iterations=2,\n",
    "    handle_parsing_errors=(\n",
    "        \"you did not follow the instruction that i have given you to use the kb  tools\"\n",
    "    ),\n",
    ")"
   ]
  },
  {
   "cell_type": "code",
   "execution_count": 96,
   "id": "04f2bcea",
   "metadata": {},
   "outputs": [],
   "source": [
    "router_prompt = ChatPromptTemplate.from_messages([\n",
    "    (\"system\",\n",
    "     \"You are a router. Read the user message and output exactly one token:\\n\"\n",
    "     \"- MATH: if it asks for calculations.\\n\"\n",
    "     \"- KB: otherwise (tech education, RAG, agents, general know-how).\\n\"\n",
    "     \"Output only MATH or KB.\"),\n",
    "    (\"human\", \"{input}\")\n",
    "])"
   ]
  },
  {
   "cell_type": "code",
   "execution_count": 97,
   "id": "9bf48df9",
   "metadata": {},
   "outputs": [],
   "source": [
    "router_chain = router_prompt|llm_default|StrOutputParser()"
   ]
  },
  {
   "cell_type": "code",
   "execution_count": 74,
   "id": "92dee581",
   "metadata": {},
   "outputs": [],
   "source": [
    "def _dispatcher(inputs:dict):\n",
    "    \"\"\"it will take new inputs from human and it will also attach hitory from memory \"\"\"\n",
    "    user_msg = inputs[\"input\"]\n",
    "    choice = router_chain.invoke({\"input\": user_msg}).strip().upper()\n",
    "    print(f\"router choice : {choice}\")\n",
    "    if choice == \"MATH\" or choice == \"Math\" or choice == \"math\":\n",
    "        return math_exector.invoke({\"input\": user_msg})\n",
    "    elif choice == \"KB\" or choice == \"Kb\" or choice == \"kb\":\n",
    "        return kb_executor.invoke({\"input\": user_msg})\n",
    "    else:\n",
    "        return \"I can only answer math and kb related questions\""
   ]
  },
  {
   "cell_type": "code",
   "execution_count": 75,
   "id": "cba9eb63",
   "metadata": {},
   "outputs": [
    {
     "data": {
      "text/plain": [
       "RunnableLambda(_dispatcher)"
      ]
     },
     "execution_count": 75,
     "metadata": {},
     "output_type": "execute_result"
    }
   ],
   "source": [
    "dispatcher = RunnableLambda(_dispatcher)\n",
    "dispatcher"
   ]
  },
  {
   "cell_type": "code",
   "execution_count": 76,
   "id": "2d4afa1f",
   "metadata": {},
   "outputs": [],
   "source": [
    "_sessions = {}\n",
    "\n",
    "def _get_history(session_id:str):\n",
    "    if session_id not in _sessions:\n",
    "        _sessions[session_id] = ChatMessageHistory()\n",
    "    return _sessions[session_id]"
   ]
  },
  {
   "cell_type": "code",
   "execution_count": 77,
   "id": "c46b48ab",
   "metadata": {},
   "outputs": [],
   "source": [
    "orchestrator = RunnableWithMessageHistory(\n",
    "    runnable=dispatcher,\n",
    "    get_session_history=_get_history,\n",
    "    input_key=\"input\",\n",
    "    history_messages_key=\"history\"\n",
    ")"
   ]
  },
  {
   "cell_type": "code",
   "execution_count": 78,
   "id": "ae6629ce",
   "metadata": {},
   "outputs": [],
   "source": [
    "cfg = {\"configurable\":{\"session_id\":\"user1\"}}"
   ]
  },
  {
   "cell_type": "code",
   "execution_count": 79,
   "id": "cac90896",
   "metadata": {},
   "outputs": [
    {
     "name": "stdout",
     "output_type": "stream",
     "text": [
      "router choice : KB\n",
      "\n",
      "\n",
      "\u001b[1m> Entering new AgentExecutor chain...\u001b[0m\n",
      "\u001b[32;1m\u001b[1;3mCould not parse LLM output: `Thought: The question is asking for the capital city of France. I know from my general knowledge that the capital of France is Paris. However, I will confirm this information using the kb_search tool to ensure accuracy.\n",
      "\n",
      "Action by using one of the tools access that you have [kb_search]: \"capital of France\"\n",
      "\n",
      "Final answer: The capital of France is Paris.`\n",
      "For troubleshooting, visit: https://python.langchain.com/docs/troubleshooting/errors/OUTPUT_PARSING_FAILURE \u001b[0myou did not follow the instruction that i have given you to use the kb  tools\u001b[32;1m\u001b[1;3mCould not parse LLM output: `Thought: The question asks for the capital of France. Based on my general knowledge, the answer is Paris. Since this is common knowledge, I do not need to use the kb_search tool for confirmation. \n",
      "\n",
      "Final answer: The capital of France is Paris.`\n",
      "For troubleshooting, visit: https://python.langchain.com/docs/troubleshooting/errors/OUTPUT_PARSING_FAILURE \u001b[0myou did not follow the instruction that i have given you to use the kb  tools\u001b[32;1m\u001b[1;3m\u001b[0m\n",
      "\n",
      "\u001b[1m> Finished chain.\u001b[0m\n",
      "{'input': 'what is the capital of france?', 'chat_history': [], 'output': 'Agent stopped due to iteration limit or time limit.'}\n"
     ]
    }
   ],
   "source": [
    "print(orchestrator.invoke({\"input\":\"what is the capital of france?\"},config=cfg))"
   ]
  },
  {
   "cell_type": "code",
   "execution_count": 80,
   "id": "2066c35b",
   "metadata": {},
   "outputs": [
    {
     "name": "stdout",
     "output_type": "stream",
     "text": [
      "router choice : MATH\n",
      "\n",
      "\n",
      "\u001b[1m> Entering new AgentExecutor chain...\u001b[0m\n",
      "\u001b[32;1m\u001b[1;3mCould not parse LLM output: `Questions: what is sin(90)\n",
      "\n",
      "thought: To find sin(90 degrees), I know that the sine of 90 degrees is 1.\n",
      "\n",
      "Action by using one of the tools access that you have [calculator]: sin(90)\n",
      "\n",
      "However, since the calculator function supports expressions with mathematical functions, I will evaluate sin(90 degrees). Note that if the calculator expects radians, I need to convert degrees to radians: 90 degrees = π/2 radians.\n",
      "\n",
      "I'll evaluate sin(π/2).\n",
      "\n",
      "Let's perform the calculation:\n",
      "\n",
      "calculator(\"sin(3.141592653589793 / 2)\")`\n",
      "For troubleshooting, visit: https://python.langchain.com/docs/troubleshooting/errors/OUTPUT_PARSING_FAILURE \u001b[0myou did not follow the instruction that i have given you to use the tools\u001b[32;1m\u001b[1;3mCould not parse LLM output: `Questions: what is sin(90)\n",
      "\n",
      "thought: To accurately compute sin(90 degrees), I need to recognize that the calculator function expects input in radians. Since 90 degrees equals π/2 radians, I will evaluate sin(π/2).\n",
      "\n",
      "Action by using one of the tools access that you have [calculator]: sin(π/2)\n",
      "\n",
      "Final answer: 1`\n",
      "For troubleshooting, visit: https://python.langchain.com/docs/troubleshooting/errors/OUTPUT_PARSING_FAILURE \u001b[0myou did not follow the instruction that i have given you to use the tools\u001b[32;1m\u001b[1;3m\u001b[0m\n",
      "\n",
      "\u001b[1m> Finished chain.\u001b[0m\n",
      "{'input': 'what is sin(90)', 'chat_history': [HumanMessage(content='what is sin(90)', additional_kwargs={}, response_metadata={}), AIMessage(content='Agent stopped due to iteration limit or time limit.', additional_kwargs={}, response_metadata={})], 'output': 'Agent stopped due to iteration limit or time limit.'}\n"
     ]
    }
   ],
   "source": [
    "print(orchestrator.invoke({\"input\":\"what is sin(90)\"},config=cfg))"
   ]
  },
  {
   "cell_type": "code",
   "execution_count": null,
   "id": "504592e5",
   "metadata": {},
   "outputs": [],
   "source": []
  }
 ],
 "metadata": {
  "kernelspec": {
   "display_name": ".venv (3.12.11)",
   "language": "python",
   "name": "python3"
  },
  "language_info": {
   "codemirror_mode": {
    "name": "ipython",
    "version": 3
   },
   "file_extension": ".py",
   "mimetype": "text/x-python",
   "name": "python",
   "nbconvert_exporter": "python",
   "pygments_lexer": "ipython3",
   "version": "3.12.11"
  }
 },
 "nbformat": 4,
 "nbformat_minor": 5
}
