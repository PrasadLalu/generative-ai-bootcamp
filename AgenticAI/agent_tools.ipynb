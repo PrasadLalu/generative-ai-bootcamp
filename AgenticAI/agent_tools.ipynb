{
 "cells": [
  {
   "cell_type": "markdown",
   "id": "4639b2b6",
   "metadata": {},
   "source": [
    "## Agent Tools"
   ]
  },
  {
   "cell_type": "code",
   "execution_count": 3,
   "id": "0781667c",
   "metadata": {},
   "outputs": [],
   "source": [
    "# Load environment variables\n",
    "import os\n",
    "from dotenv import load_dotenv\n",
    "\n",
    "load_dotenv()\n",
    "\n",
    "# Euri API Key\n",
    "EURI_API_KEY = os.getenv(\"EURI_API_KEY\")"
   ]
  },
  {
   "cell_type": "code",
   "execution_count": 5,
   "metadata": {},
   "outputs": [
    {
     "data": {
      "text/plain": [
       "EuriaiChatModel(api_key='euri-bbab1558c330864f0704ddb28f62e188423e6d65766a561edc32e93f34d74d43', temperature=0.2)"
      ]
     },
     "execution_count": 5,
     "metadata": {},
     "output_type": "execute_result"
    }
   ],
   "source": [
    "# Initialize llm model\n",
    "from euriai.langchain import create_chat_model\n",
    "\n",
    "model = create_chat_model(\n",
    "    api_key=EURI_API_KEY,\n",
    "    model=\"gpt-4.1-nano\",\n",
    "    temperature=0.2\n",
    ")\n",
    "model"
   ]
  },
  {
   "cell_type": "code",
   "execution_count": 7,
   "metadata": {},
   "outputs": [
    {
     "name": "stdout",
     "output_type": "stream",
     "text": [
      "Artificial intelligence (AI) refers to the development of computer systems and software that can perform tasks typically requiring human intelligence. These tasks include learning from data (machine learning), understanding natural language (natural language processing), recognizing images or speech, reasoning, problem-solving, and decision-making. AI aims to create systems that can adapt, improve their performance over time, and sometimes operate autonomously, mimicking aspects of human cognition.\n"
     ]
    }
   ],
   "source": [
    "response = model.invoke(\"What is artificial intelligence?\")\n",
    "print(response.content)"
   ]
  },
  {
   "cell_type": "code",
   "execution_count": 19,
   "id": "1799dea3",
   "metadata": {},
   "outputs": [],
   "source": [
    "import ast, math\n",
    "from langchain_core.tools import tool\n",
    "from langchain_core.prompts import ChatPromptTemplate\n",
    "from langchain_core.output_parsers import StrOutputParser\n",
    "from langchain.agents import create_react_agent,AgentExecutor\n",
    "from langchain_core.runnables import RunnableLambda, RunnableWithMessageHistory\n",
    "from langchain.memory import ConversationBufferMemory, ConversationBufferWindowMemory\n",
    "from langchain_core.chat_history import InMemoryChatMessageHistory as ChatMessageHistory"
   ]
  },
  {
   "cell_type": "markdown",
   "id": "d2232ab8",
   "metadata": {},
   "source": [
    "### Tools\n",
    "- Calculator Tool"
   ]
  },
  {
   "cell_type": "code",
   "execution_count": 14,
   "metadata": {},
   "outputs": [],
   "source": [
    "@tool(\"calculator\", return_direct=True)\n",
    "def calculator(expression: str) -> str:\n",
    "    \"\"\"\n",
    "    Evaluate a numeric math expression . supprts + , -,*,/,**, parentheses \n",
    "    and all kind of mathamatical functions\n",
    "    \"\"\"\n",
    "    allowed_nodes =(\n",
    "        ast.Expression,\n",
    "        ast.UnaryOp,\n",
    "        ast.unaryop,\n",
    "        ast.BinOp,\n",
    "        ast.operator,\n",
    "        ast.Num,\n",
    "        ast.Load,\n",
    "        ast.pow,\n",
    "        ast.FunctionDef,\n",
    "        ast.Module,\n",
    "        ast.Expr,\n",
    "        ast.Call,\n",
    "        ast.Name,\n",
    "        ast.arguments,\n",
    "        ast.args,\n",
    "        ast.Constant\n",
    "    )\n",
    "    \n",
    "    allowed_names = {k:v for k,v in vars(math).items() if not k.startswith(\"_\")}\n",
    "    allowed_names.update({\"abs\": abs, \"round\": round,\"min\": min,\"max\": max})\n",
    "    node = ast.parse(expression, mode=\"eval\")\n",
    "    \n",
    "    for n in ast.walk(node):\n",
    "        if not isinstance(n, allowed_nodes):\n",
    "            raise ValueError(f\"Expression contains invalid node {type(n)}\")\n",
    "        if isinstance(n, ast.Name) and n.id not in allowed_names:\n",
    "            raise ValueError(f\"Expression contains invalid name {n.id}\")\n",
    "    code = compile(node, \"<string>\", \"eval\")\n",
    "    return str(eval(code, {\"__builtins__\": {}}, allowed_names))"
   ]
  },
  {
   "cell_type": "code",
   "execution_count": 16,
   "metadata": {},
   "outputs": [],
   "source": [
    "math_prompt = ChatPromptTemplate.from_messages([(\n",
    "    \"system\",\"you are a precise math assistant , you can use thse tools:\\n{tools}\\n\"\n",
    "    \"when you are going to use this tools follw these instruction exactly the same format:\\n\"\n",
    "    \"Questions :......\\nthought ...\\nAction by using one of the tools access that you have [{tool_names}]\\n \"\n",
    "    \"alwasy finish with final give me a numeric answer to the question\"),\n",
    "    (\"human\",\"questions: {input}\\n{agent_scratchpad}\")\n",
    "])"
   ]
  },
  {
   "cell_type": "code",
   "execution_count": 23,
   "id": "d296ebe2",
   "metadata": {},
   "outputs": [
    {
     "data": {
      "text/plain": [
       "[StructuredTool(name='calculator', description='Evaluate a numeric math expression . supprts + , -,*,/,**, parentheses \\nand all kind of mathamatical functions', args_schema=<class 'langchain_core.utils.pydantic.calculator'>, return_direct=True, func=<function calculator at 0x0000027753D179C0>)]"
      ]
     },
     "execution_count": 23,
     "metadata": {},
     "output_type": "execute_result"
    }
   ],
   "source": [
    "tools_math = [calculator]\n",
    "tools_math"
   ]
  },
  {
   "cell_type": "code",
   "execution_count": 24,
   "metadata": {},
   "outputs": [
    {
     "data": {
      "text/plain": [
       "RunnableAssign(mapper={\n",
       "  agent_scratchpad: RunnableLambda(lambda x: format_log_to_str(x['intermediate_steps']))\n",
       "})\n",
       "| ChatPromptTemplate(input_variables=['agent_scratchpad', 'input'], input_types={}, partial_variables={'tools': 'calculator(expression: str) -> str - Evaluate a numeric math expression . supprts + , -,*,/,**, parentheses \\nand all kind of mathamatical functions', 'tool_names': 'calculator'}, messages=[SystemMessagePromptTemplate(prompt=PromptTemplate(input_variables=['tool_names', 'tools'], input_types={}, partial_variables={}, template='you are a precise math assistant , you can use thse tools:\\n{tools}\\nwhen you are going to use this tools follw these instruction exactly the same format:\\nQuestions :......\\nthought ...\\nAction by using one of the tools access that you have [{tool_names}]\\n alwasy finish with final give me a numeric answer to the question'), additional_kwargs={}), HumanMessagePromptTemplate(prompt=PromptTemplate(input_variables=['agent_scratchpad', 'input'], input_types={}, partial_variables={}, template='questions: {input}\\n{agent_scratchpad}'), additional_kwargs={})])\n",
       "| RunnableBinding(bound=EuriaiChatModel(api_key='euri-bbab1558c330864f0704ddb28f62e188423e6d65766a561edc32e93f34d74d43', temperature=0.2), kwargs={'stop': ['\\nObservation']}, config={}, config_factories=[])\n",
       "| ReActSingleInputOutputParser()"
      ]
     },
     "execution_count": 24,
     "metadata": {},
     "output_type": "execute_result"
    }
   ],
   "source": [
    "math_agent = create_react_agent(\n",
    "    llm=model,\n",
    "    prompt=math_prompt,\n",
    "    tools=tools_math\n",
    ")\n",
    "math_agent"
   ]
  },
  {
   "cell_type": "code",
   "execution_count": 25,
   "metadata": {},
   "outputs": [],
   "source": [
    "memory_math = ConversationBufferMemory(\n",
    "    memory_key=\"chat_history\",\n",
    "    return_messages=True,\n",
    "    input_key=\"input\",\n",
    "    output_key=\"output\",\n",
    ")"
   ]
  },
  {
   "cell_type": "code",
   "execution_count": 27,
   "id": "24373ac2",
   "metadata": {},
   "outputs": [],
   "source": [
    "math_exector = AgentExecutor(\n",
    "    agent=math_agent,\n",
    "    tools=tools_math,\n",
    "    memory=memory_math,\n",
    "    verbose=True,\n",
    "    max_iterations=2,\n",
    "    handle_parsing_errors=(\n",
    "        \"you did not follow the instruction that i have given you to use the tools\"\n",
    "    ),\n",
    ")"
   ]
  },
  {
   "cell_type": "markdown",
   "id": "62fbb8a4",
   "metadata": {},
   "source": [
    "- KB Search"
   ]
  },
  {
   "cell_type": "code",
   "execution_count": 28,
   "id": "47cc1f00",
   "metadata": {},
   "outputs": [],
   "source": [
    "@tool(\"kb_search\", return_direct=True)\n",
    "def kb_search(query: str) -> str:\n",
    "    \"\"\"a mock function to search from a knowledge base\"\"\"\n",
    "    knowledge_base = {\n",
    "        \"what is the capital of france\": \"The capital of France is Paris.\",\n",
    "        \"who is the president of the united states\": \"The president of the United States is Joe Biden.\",\n",
    "        \"what is the largest mammal\": \"The largest mammal is the blue whale.\",\n",
    "    }\n",
    "    query = query.lower().strip(\"?\")\n",
    "    for key,answer in knowledge_base.items():\n",
    "        if key in query:\n",
    "            return answer\n",
    "    return \"I don't know the answer to that question.\""
   ]
  },
  {
   "cell_type": "code",
   "execution_count": 29,
   "id": "99d8af59",
   "metadata": {},
   "outputs": [
    {
     "data": {
      "text/plain": [
       "[StructuredTool(name='kb_search', description='a mock function to search from a knowledge base', args_schema=<class 'langchain_core.utils.pydantic.kb_search'>, return_direct=True, func=<function kb_search at 0x000002775536FCE0>)]"
      ]
     },
     "execution_count": 29,
     "metadata": {},
     "output_type": "execute_result"
    }
   ],
   "source": [
    "tools_kb = [kb_search]\n",
    "tools_kb"
   ]
  },
  {
   "cell_type": "code",
   "execution_count": 30,
   "id": "4e2af154",
   "metadata": {},
   "outputs": [],
   "source": [
    "kb_prompt = ChatPromptTemplate.from_messages([\n",
    "    (\"system\",\"you are a helpful assistant that can answer question based on your knowledge base and you can use the following tools:\\n{tools}\\n\"\n",
    "    \"when you are going to use this tools follw these instruction exactly the same format:\\n\"\n",
    "    \"Questions :......\\nthought ...\\nAction by using one of the tools access that you have [{tool_names}]\\n \"\n",
    "    \"alwasy finish with final answer to the question that you are able to search from my knowledge base\"),\n",
    "    (\"human\",\"questions: {input}\\n{agent_scratchpad}\")\n",
    "])"
   ]
  },
  {
   "cell_type": "code",
   "execution_count": 33,
   "id": "fb74f934",
   "metadata": {},
   "outputs": [],
   "source": [
    "agent_kb = create_react_agent(\n",
    "    llm=model,\n",
    "    prompt=kb_prompt,\n",
    "    tools=tools_kb\n",
    ")"
   ]
  },
  {
   "cell_type": "code",
   "execution_count": 35,
   "id": "56711ec5",
   "metadata": {},
   "outputs": [],
   "source": [
    "mem_kb = ConversationBufferWindowMemory(\n",
    "    memory_key=\"chat_history\",\n",
    "    return_messages=True,\n",
    "    input_key=\"input\",\n",
    "    output_key=\"output\",\n",
    "    k=5\n",
    ")"
   ]
  },
  {
   "cell_type": "code",
   "execution_count": 36,
   "id": "3c7c1ea1",
   "metadata": {},
   "outputs": [],
   "source": [
    "kb_executor = AgentExecutor(\n",
    "    agent=agent_kb,\n",
    "    tools=tools_kb,\n",
    "    memory=mem_kb,\n",
    "    verbose=True,\n",
    "    max_iterations=2,\n",
    "    handle_parsing_errors=(\n",
    "        \"you did not follow the instruction that i have given you to use the kb  tools\"\n",
    "    ),\n",
    ")"
   ]
  },
  {
   "cell_type": "code",
   "execution_count": 37,
   "id": "975a6279",
   "metadata": {},
   "outputs": [],
   "source": [
    "router_prompt = ChatPromptTemplate.from_messages([\n",
    "    (\"system\",\n",
    "     \"You are a router. Read the user message and output exactly one token:\\n\"\n",
    "     \"- MATH: if it asks for calculations.\\n\"\n",
    "     \"- KB: otherwise (tech education, RAG, agents, general know-how).\\n\"\n",
    "     \"Output only MATH or KB.\"),\n",
    "    (\"human\", \"{input}\")\n",
    "])"
   ]
  },
  {
   "cell_type": "code",
   "execution_count": 39,
   "id": "91afaa9d",
   "metadata": {},
   "outputs": [],
   "source": [
    "router_chain = router_prompt | model |StrOutputParser()"
   ]
  },
  {
   "cell_type": "code",
   "execution_count": 40,
   "id": "72dcb7a9",
   "metadata": {},
   "outputs": [],
   "source": [
    "def _dispatcher(inputs:dict):\n",
    "    \"\"\"it will take new inputs from human and it will also attach hitory from memory \"\"\"\n",
    "    user_msg = inputs[\"input\"]\n",
    "    choice = router_chain.invoke({\"input\": user_msg}).strip().upper()\n",
    "    print(f\"router choice : {choice}\")\n",
    "    if choice == \"MATH\" or choice == \"Math\" or choice == \"math\":\n",
    "        return math_exector.invoke({\"input\": user_msg})\n",
    "    elif choice == \"KB\" or choice == \"Kb\" or choice == \"kb\":\n",
    "        return kb_executor.invoke({\"input\": user_msg})\n",
    "    else:\n",
    "        return \"I can only answer math and kb related questions\""
   ]
  },
  {
   "cell_type": "code",
   "execution_count": 41,
   "id": "74dc1ae1",
   "metadata": {},
   "outputs": [
    {
     "data": {
      "text/plain": [
       "RunnableLambda(_dispatcher)"
      ]
     },
     "execution_count": 41,
     "metadata": {},
     "output_type": "execute_result"
    }
   ],
   "source": [
    "dispatcher = RunnableLambda(_dispatcher)\n",
    "dispatcher"
   ]
  },
  {
   "cell_type": "code",
   "execution_count": 42,
   "id": "9371237a",
   "metadata": {},
   "outputs": [],
   "source": [
    "_sessions = {}\n",
    "\n",
    "def _get_history(session_id:str):\n",
    "    if session_id not in _sessions:\n",
    "        _sessions[session_id] = ChatMessageHistory()\n",
    "    return _sessions[session_id]"
   ]
  },
  {
   "cell_type": "code",
   "execution_count": 43,
   "id": "04ed972a",
   "metadata": {},
   "outputs": [],
   "source": [
    "orchestrator = RunnableWithMessageHistory(\n",
    "    runnable=dispatcher,\n",
    "    get_session_history=_get_history,\n",
    "    input_key=\"input\",\n",
    "    history_messages_key=\"history\"\n",
    ")"
   ]
  },
  {
   "cell_type": "code",
   "execution_count": 44,
   "id": "6fb8ab9a",
   "metadata": {},
   "outputs": [],
   "source": [
    "cfg = {\"configurable\":{\"session_id\":\"user1\"}}"
   ]
  },
  {
   "cell_type": "code",
   "execution_count": 45,
   "id": "321c77b5",
   "metadata": {},
   "outputs": [
    {
     "name": "stdout",
     "output_type": "stream",
     "text": [
      "router choice : KB\n",
      "\n",
      "\n",
      "\u001b[1m> Entering new AgentExecutor chain...\u001b[0m\n",
      "\u001b[32;1m\u001b[1;3mCould not parse LLM output: `Thought: The question is asking for the capital city of France. This is general knowledge that I am aware of.\n",
      "\n",
      "Final answer: The capital of France is Paris.`\n",
      "For troubleshooting, visit: https://python.langchain.com/docs/troubleshooting/errors/OUTPUT_PARSING_FAILURE \u001b[0myou did not follow the instruction that i have given you to use the kb  tools\u001b[32;1m\u001b[1;3mCould not parse LLM output: `Questions: what is the capital of france?  \n",
      "thought ...  \n",
      "Action by using one of the tools access that you have [kb_search]  \n",
      "query: \"capital of France\"  \n",
      "Final answer: The capital of France is Paris.`\n",
      "For troubleshooting, visit: https://python.langchain.com/docs/troubleshooting/errors/OUTPUT_PARSING_FAILURE \u001b[0myou did not follow the instruction that i have given you to use the kb  tools\u001b[32;1m\u001b[1;3m\u001b[0m\n",
      "\n",
      "\u001b[1m> Finished chain.\u001b[0m\n",
      "{'input': 'what is the capital of france?', 'chat_history': [], 'output': 'Agent stopped due to iteration limit or time limit.'}\n"
     ]
    }
   ],
   "source": [
    "print(orchestrator.invoke({\"input\":\"what is the capital of france?\"},config=cfg))"
   ]
  },
  {
   "cell_type": "code",
   "execution_count": null,
   "id": "6ffc503f",
   "metadata": {},
   "outputs": [],
   "source": []
  }
 ],
 "metadata": {
  "kernelspec": {
   "display_name": ".venv (3.12.11)",
   "language": "python",
   "name": "python3"
  },
  "language_info": {
   "codemirror_mode": {
    "name": "ipython",
    "version": 3
   },
   "file_extension": ".py",
   "mimetype": "text/x-python",
   "name": "python",
   "nbconvert_exporter": "python",
   "pygments_lexer": "ipython3",
   "version": "3.12.11"
  }
 },
 "nbformat": 4,
 "nbformat_minor": 5
}
