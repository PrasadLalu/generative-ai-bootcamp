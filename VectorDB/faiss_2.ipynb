{
 "cells": [
  {
   "cell_type": "code",
   "execution_count": 3,
   "id": "a167cef2",
   "metadata": {},
   "outputs": [
    {
     "data": {
      "text/plain": [
       "True"
      ]
     },
     "execution_count": 3,
     "metadata": {},
     "output_type": "execute_result"
    }
   ],
   "source": [
    "import os\n",
    "from dotenv import load_dotenv\n",
    "\n",
    "load_dotenv()\n"
   ]
  },
  {
   "cell_type": "code",
   "execution_count": 5,
   "id": "de5d9356",
   "metadata": {},
   "outputs": [
    {
     "data": {
      "text/plain": [
       "ChatGroq(client=<groq.resources.chat.completions.Completions object at 0x0000017EBCECA080>, async_client=<groq.resources.chat.completions.AsyncCompletions object at 0x0000017EBCEC8D60>, model_name='openai/gpt-oss-20b', model_kwargs={}, groq_api_key=SecretStr('**********'))"
      ]
     },
     "execution_count": 5,
     "metadata": {},
     "output_type": "execute_result"
    }
   ],
   "source": [
    "from langchain_groq import ChatGroq\n",
    "\n",
    "llm = ChatGroq(model=\"openai/gpt-oss-20b\")\n",
    "llm"
   ]
  },
  {
   "cell_type": "code",
   "execution_count": 6,
   "id": "c86b4e53",
   "metadata": {},
   "outputs": [
    {
     "data": {
      "text/plain": [
       "AIMessage(content='**Generative AI** is a branch of artificial intelligence that creates new content—text, images, audio, video, or other data—rather than simply recognizing or classifying existing information.  \\nAt its core, generative AI learns patterns from large amounts of data and then uses those patterns to produce novel, often realistic, outputs that were not explicitly present in the training set.\\n\\n---\\n\\n## 1. How It Works\\n\\n| Step | What Happens | Key Techniques |\\n|------|-------------|---------------|\\n| **1. Data Collection** | Gather huge datasets (books, photos, music, etc.) | Raw data |\\n| **2. Model Training** | Learn statistical relationships and latent structures | Deep neural nets (transformers, GANs, VAEs, diffusion models) |\\n| **3. Latent Representation** | Compress data into a “latent space” that captures its essence | Embeddings, hidden layers |\\n| **4. Generation** | Sample or decode from the latent space to produce new content | Beam search, sampling, diffusion, adversarial training |\\n\\n### Core Architectures\\n\\n| Architecture | What It Does | Typical Use |\\n|-------------|-------------|------------|\\n| **Transformers** (e.g., GPT, BERT, LLaMA) | Sequence‑to‑sequence language modeling | Text generation, chatbots |\\n| **Generative Adversarial Networks (GANs)** | Two networks (generator & discriminator) compete to produce realistic images | Photo‑realistic art, face synthesis |\\n| **Variational Autoencoders (VAEs)** | Encode data into latent space and decode | Image reconstruction, style transfer |\\n| **Diffusion Models** | Iteratively refine noise into coherent data | High‑quality image generation (Stable Diffusion, DALL‑E 3) |\\n| **Audio Models** (WaveNet, Jukebox) | Generate raw audio waveforms | Music composition, speech synthesis |\\n\\n---\\n\\n## 2. Types of Generative AI\\n\\n| Category | Example Models | Typical Output |\\n|---------|---------------|--------------|\\n| **Text** | GPT‑4, LLaMA, Claude | Articles, stories, code |\\n| **Images** | DALL‑E, Midjourney, Stable Diffusion | Photographs, illustrations |\\n| **Audio** | Jukebox, MusicLM | Songs, speech, sound effects |\\n| **Video** | Imagen Video, RunwayML | Short clips, animation |\\n| **Multimodal** | Gemini, Claude 3.5, GPT‑4o | Text + image + voice interactions |\\n\\n---\\n\\n## 3. Key Applications\\n\\n| Domain | Use Case |\\n|-------|---------|\\n| **Creative Arts** | AI‑generated paintings, music, poetry |\\n| **Design & Prototyping** | Rapid mock‑ups, 3D model generation |\\n| **Content Creation** | Automated copywriting, social‑media posts |\\n| **Education** | Personalized tutoring, practice questions |\\n| **Healthcare** | Synthetic medical data, drug molecule design |\\n| **Gaming** | Procedural worlds, NPC dialogue |\\n| **Business** | Marketing copy, brand assets, data augmentation |\\n\\n---\\n\\n## 4. Strengths & Limitations\\n\\n| Strength | Limitation |\\n|---------|-----------|\\n| **Creativity & Speed** | Can produce novel ideas quickly |\\n| **Scalability** | Handles massive data |\\n| **Personalization** | Tailors content to users |\\n| **Data‑Intensive** | Requires huge datasets & compute |\\n| **Bias & Hallucination** | May generate inaccurate or harmful content |\\n| **Interpretability** | Hard to understand internal reasoning |\\n| **Regulation** | Intellectual‑property and privacy concerns |\\n\\n---\\n\\n## 5. Ethical & Societal Considerations\\n\\n- **Authenticity**: Deepfakes, misinformation.\\n- **Copyright**: Who owns AI‑created content?\\n- **Bias**: Reflecting training data biases.\\n- **Job Displacement**: Automation of creative roles.\\n- **Environmental Impact**: Energy consumption of training large models.\\n\\n---\\n\\n## Quick Takeaway\\n\\nGenerative AI is **“AI that creates.”**  \\nBy learning patterns from vast amounts of data, it can produce **original, high‑quality content** across text, images, audio, and video—enabling new forms of creativity, efficiency, and personalization, while also raising important ethical and practical challenges.', additional_kwargs={'reasoning_content': 'We need to answer: \"What is generative AI\". Provide explanation, examples, how it works, applications, types, etc. Likely concise but informative.'}, response_metadata={'token_usage': {'completion_tokens': 943, 'prompt_tokens': 76, 'total_tokens': 1019, 'completion_time': 0.7853014, 'prompt_time': 0.00552709, 'queue_time': 0.122226794, 'total_time': 0.79082849}, 'model_name': 'openai/gpt-oss-20b', 'system_fingerprint': 'fp_fd68d84dd3', 'service_tier': 'on_demand', 'finish_reason': 'stop', 'logprobs': None}, id='run--1f114815-5829-4099-96cd-0759d2d9edf6-0', usage_metadata={'input_tokens': 76, 'output_tokens': 943, 'total_tokens': 1019})"
      ]
     },
     "execution_count": 6,
     "metadata": {},
     "output_type": "execute_result"
    }
   ],
   "source": [
    "llm.invoke(\"What is generative AI\")"
   ]
  },
  {
   "cell_type": "code",
   "execution_count": null,
   "id": "b942af86",
   "metadata": {},
   "outputs": [],
   "source": []
  }
 ],
 "metadata": {
  "kernelspec": {
   "display_name": ".venv (3.10.18)",
   "language": "python",
   "name": "python3"
  },
  "language_info": {
   "codemirror_mode": {
    "name": "ipython",
    "version": 3
   },
   "file_extension": ".py",
   "mimetype": "text/x-python",
   "name": "python",
   "nbconvert_exporter": "python",
   "pygments_lexer": "ipython3",
   "version": "3.10.18"
  }
 },
 "nbformat": 4,
 "nbformat_minor": 5
}
