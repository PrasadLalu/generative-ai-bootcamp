{
 "cells": [
  {
   "cell_type": "markdown",
   "id": "ca1ed7db",
   "metadata": {},
   "source": [
    "### OpenAI GPT OSS"
   ]
  },
  {
   "cell_type": "code",
   "execution_count": 3,
   "id": "a3ed600a",
   "metadata": {},
   "outputs": [
    {
     "name": "stdout",
     "output_type": "stream",
     "text": [
      "**Generative AI** is a kind of artificial intelligence that *creates* new content rather than just recognizing or classifying it.  \n",
      "\n",
      "| What it does | How it learns | Typical outputs |\n",
      "|--------------|---------------|----------------|\n",
      "| **Generates text, images, audio, code, video, etc.** | **Trains on large datasets** of existing examples and learns statistical patterns (e.g., which words follow which, how to blend colors, how sounds are arranged). | **Chat responses**, **stories or poems**, **photographic‑quality images**, **music tracks**, **programming code snippets**, **in‑painting** or style‑transfer, etc. |\n",
      "| **Can be conditioned** so you steer the output with prompts or specifications (e.g., “write a marketing email in a friendly tone” or “draw an elephant wearing a hat”). | **Neural‑network architectures** that are good at modeling sequences or high‑dimensional data: Transformers (for text and many other modalities), Diffusion models (for images/3D), GANs, VQ‑VAEs, etc. | **DALL‑E** “draw a cat in a spaceship”, **Stable Diffusion** image generations, **ChatGPT/GPT‑4** text replies, **Audio LLMs** like MusicLM, etc. |\n",
      "\n",
      "### Why it matters\n",
      "- **Automation & productivity**: Write code, design graphics, generate marketing copy—all faster.\n",
      "- **Creativity**: Assist artists, musicians, writers, and designers by giving them novel starting points.\n",
      "- **Personalization**: Create custom content tailored to individual users or contexts.\n",
      "\n",
      "### How it works (high‑level)\n",
      "1. **Data collection**: Gather millions of examples (books, photos, video frames, code, etc.).\n",
      "2. **Pre‑training**: Use unsupervised or self‑supervised learning to learn underlying structure (e.g., “predict the next word” in a sentence).\n",
      "3. **Fine‑tuning / conditioning** (optional): Adapt the model to a specific task or style, or teach it to respond to prompts.\n",
      "4. **Inference**: Provide a prompt, and the model probabilistically generates the next token(s) until the output is complete.\n",
      "\n",
      "### Common pitfalls & considerations\n",
      "- **Bias & misinformation**: The model reproduces patterns present in the training data, so it can generate biased or false content.\n",
      "- **Training cost**: Large generative models require massive compute and data, raising questions about environmental impact.\n",
      "- **Authorship & copyright**: Generated content may be derivative; navigating legal status can be complex.\n",
      "\n",
      "In short, generative AI is a technology that learns the essence of existing data and then uses that knowledge to *invent* new, convincing artifacts across a wide range of media.\n"
     ]
    }
   ],
   "source": [
    "import os\n",
    "from dotenv import load_dotenv\n",
    "from langchain_huggingface import HuggingFaceEndpoint\n",
    "from langchain_huggingface.chat_models.huggingface import ChatHuggingFace\n",
    "\n",
    "# Load environment variables\n",
    "load_dotenv()\n",
    "\n",
    "# Access HuggingFace API Token\n",
    "api_token = os.getenv('HUGGINGFACEHUB_API_TOKEN')\n",
    "\n",
    "# Define model\n",
    "llm = HuggingFaceEndpoint(\n",
    "    repo_id='openai/gpt-oss-20b',\n",
    "    task='text-generation',\n",
    "    huggingfacehub_api_token=api_token,\n",
    "    max_new_tokens=512)\n",
    "\n",
    "chat_model = ChatHuggingFace(llm=llm)\n",
    "\n",
    "response = chat_model.invoke(\"What is generative AI?\")\n",
    "print(response.content)"
   ]
  },
  {
   "cell_type": "code",
   "execution_count": null,
   "id": "b31820f9",
   "metadata": {},
   "outputs": [],
   "source": []
  },
  {
   "cell_type": "code",
   "execution_count": null,
   "id": "799caa1e",
   "metadata": {},
   "outputs": [],
   "source": [
    "from dotenv import load_dotenv\n",
    "from langchain_huggingface import HuggingFaceEndpoint\n",
    "from langchain_huggingface.chat_models.huggingface import ChatHuggingFace\n",
    "\n",
    "load_dotenv()\n",
    "\n",
    "llm = HuggingFaceEndpoint(repo_id=\"openai/gpt-oss-20b\", task=\"text-generation\")\n",
    "\n",
    "chat_model = ChatHuggingFace(llm=llm)\n",
    "\n",
    "response = chat_model.invoke(\"What is generative AI?\")\n",
    "print(response.content)"
   ]
  }
 ],
 "metadata": {
  "kernelspec": {
   "display_name": ".venv (3.10.18)",
   "language": "python",
   "name": "python3"
  },
  "language_info": {
   "codemirror_mode": {
    "name": "ipython",
    "version": 3
   },
   "file_extension": ".py",
   "mimetype": "text/x-python",
   "name": "python",
   "nbconvert_exporter": "python",
   "pygments_lexer": "ipython3",
   "version": "3.10.18"
  }
 },
 "nbformat": 4,
 "nbformat_minor": 5
}
